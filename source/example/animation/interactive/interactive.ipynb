{
 "cells": [
  {
   "cell_type": "markdown",
   "id": "64bb30da",
   "metadata": {},
   "source": [
    "# Interactive"
   ]
  },
  {
   "cell_type": "code",
   "execution_count": 1,
   "id": "85fc6b44",
   "metadata": {},
   "outputs": [],
   "source": [
    "from smpl import animation\n",
    "from smpl import plot\n",
    "import matplotlib.pyplot as plt\n",
    "import scipy\n",
    "import numpy as np\n",
    "import tqdm\n",
    "import uncertainties as unc\n",
    "from uncertainties import unumpy\n",
    "from ipywidgets import widgets"
   ]
  },
  {
   "cell_type": "code",
   "execution_count": 2,
   "id": "76558a78",
   "metadata": {
    "scrolled": false
   },
   "outputs": [
    {
     "name": "stdout",
     "output_type": "stream",
     "text": [
      "Double click play for speedup.\n"
     ]
    },
    {
     "data": {
      "application/vnd.jupyter.widget-view+json": {
       "model_id": "7e2cf17bcda0473892c29996c38d5ac9",
       "version_major": 2,
       "version_minor": 0
      },
      "text/plain": [
       "HBox(children=(Play(value=0, description='Press play', interval=500), IntSlider(value=0)))"
      ]
     },
     "metadata": {},
     "output_type": "display_data"
    },
    {
     "data": {
      "application/vnd.jupyter.widget-view+json": {
       "model_id": "7bf033f58da34a3392602470cbd688c2",
       "version_major": 2,
       "version_minor": 0
      },
      "text/plain": [
       "SelectionSlider(description='u', index=10, options=(0.0, 0.1, 0.2, 0.30000000000000004, 0.4, 0.5, 0.6000000000…"
      ]
     },
     "metadata": {},
     "output_type": "display_data"
    },
    {
     "data": {
      "application/vnd.jupyter.widget-view+json": {
       "model_id": "f0c81f3dfdd04b93a1008244ff7f34a0",
       "version_major": 2,
       "version_minor": 0
      },
      "text/plain": [
       "Tab(children=(Tab(children=(Image(value=b'\\x89PNG\\r\\n\\x1a\\n\\x00\\x00\\x00\\rIHDR\\x00\\x00\\x01\\xb0\\x00\\x00\\x01 \\x08…"
      ]
     },
     "metadata": {},
     "output_type": "display_data"
    },
    {
     "data": {
      "application/vnd.jupyter.widget-view+json": {
       "model_id": "87306aba559c4150bc0593c27e3d603b",
       "version_major": 2,
       "version_minor": 0
      },
      "text/plain": [
       "Output(layout=Layout(border='0px solid black'), outputs=({'output_type': 'display_data', 'data': {}, 'metadata…"
      ]
     },
     "metadata": {},
     "output_type": "display_data"
    }
   ],
   "source": [
    "def fta(a,u=4.0):\n",
    "    plot.function(lambda x : u*x+a,xmin=-5,xmax=5,init=True,tight=False)\n",
    "print(\"Double click play for speedup.\")\n",
    "animation.interactive(fta,\n",
    "    widgets.Play(    value=0,    min=0,    max=100,    step=1,    interval=500,    description=\"Press play\", disabled=False),\n",
    "    widgets.FloatSlider(value=1,min=0,max=1,step=0.1,description=\"u\"),\n",
    "    prerender=True)"
   ]
  },
  {
   "cell_type": "code",
   "execution_count": 3,
   "id": "fdfa2b69",
   "metadata": {
    "scrolled": true
   },
   "outputs": [
    {
     "data": {
      "application/vnd.jupyter.widget-view+json": {
       "model_id": "d41d7c8fa6894682a69d10431646aeac",
       "version_major": 2,
       "version_minor": 0
      },
      "text/plain": [
       "SelectionSlider(description='n', options=(1, 2, 3, 4, 5, 6, 7, 8, 9, 10), value=1)"
      ]
     },
     "metadata": {},
     "output_type": "display_data"
    },
    {
     "data": {
      "application/vnd.jupyter.widget-view+json": {
       "model_id": "8936236804304e03be26f07b6b9980b4",
       "version_major": 2,
       "version_minor": 0
      },
      "text/plain": [
       "SelectionSlider(description='u', options=(1, 2, 3, 4, 5, 6, 7, 8, 9, 10), value=1)"
      ]
     },
     "metadata": {},
     "output_type": "display_data"
    },
    {
     "data": {
      "application/vnd.jupyter.widget-view+json": {
       "model_id": "156bad82b7534f7abfd124bfc8617b83",
       "version_major": 2,
       "version_minor": 0
      },
      "text/plain": [
       "Tab(children=(Tab(children=(Image(value=b'\\x89PNG\\r\\n\\x1a\\n\\x00\\x00\\x00\\rIHDR\\x00\\x00\\x01\\xb0\\x00\\x00\\x01 \\x08…"
      ]
     },
     "metadata": {},
     "output_type": "display_data"
    },
    {
     "data": {
      "application/vnd.jupyter.widget-view+json": {
       "model_id": "6660a288dd554cf48e743c0df0f09f7d",
       "version_major": 2,
       "version_minor": 0
      },
      "text/plain": [
       "Output(layout=Layout(border='0px solid black'), outputs=({'output_type': 'display_data', 'data': {}, 'metadata…"
      ]
     },
     "metadata": {},
     "output_type": "display_data"
    }
   ],
   "source": [
    "def fta(n = 1.0,u=4.0):\n",
    "    plot.function(lambda x : np.exp(n*np.log(x)-x)/u,xmin = 0.1,xmax=100,tight=False,init=False)\n",
    "    \n",
    "animation.interactive(fta,widgets.IntSlider(value=1,min=1,max=10,description=\"n\"),widgets.IntSlider(value=1,min=1,max=10,description=\"u\"),prerender=True)"
   ]
  },
  {
   "cell_type": "code",
   "execution_count": null,
   "id": "7669ce4c",
   "metadata": {
    "scrolled": false
   },
   "outputs": [],
   "source": [
    "def fta(u=4.0):\n",
    "    animation.clear()\n",
    "    for a in np.linspace(0,10,100):\n",
    "        plot.function(lambda x : u*x+a,xmin=-5,xmax=5,init=True,tight=False)\n",
    "        animation.frame()\n",
    "\n",
    "    ani = animation.animate(interval=10,blit=True)\n",
    "    display(ani.widget_gif())\n",
    "animation.interactive(fta,widgets.FloatSlider(value=1,min=0,max=1,step=0.1,description=\"u\"),prerender=True,auto_png=False)"
   ]
  },
  {
   "cell_type": "code",
   "execution_count": null,
   "id": "59c122db",
   "metadata": {},
   "outputs": [],
   "source": [
    "#%matplotlib notebook\n",
    "#plt.ioff()\n",
    "#import ipywidgets\n",
    "def fta(n = 1.0):\n",
    "    plot.function(lambda x : np.exp(n*np.log(x)-x),xmin = 0.1,xmax=100,tight=False,init=False)\n",
    "    plot.function(lambda x : np.exp(n*np.log(n)-n-(x-n)**2/2/n),xmin = 0.1,xmax=100,tight=False,init=False)\n",
    "    fac = np.math.factorial(n)\n",
    "    sti = np.sqrt(2* np.pi* n) *  n**n *np.exp(-n) \n",
    "    #print(\"FAKULTÄT(\"+str(n)+\") = \" + str(fac))\n",
    "    #print(\"STIRLING(\"+str(n)+\") = \" +  str(sti))\n",
    "    #print(\"REL-DIFF(\" + str(n)+\") = \"+ str((sti-fac)/fac*100) + \"%\")\n",
    "    \n",
    "animation.interactive(fta,  widgets.IntSlider(min=1, max=130, step=1, value=1,description=\"n\")) "
   ]
  },
  {
   "cell_type": "code",
   "execution_count": null,
   "id": "f10bbf12",
   "metadata": {},
   "outputs": [],
   "source": [
    "# Approximate factorial by gamma\n",
    "def fac(n):\n",
    "    return scipy.special.gamma(n+1)\n",
    "\n",
    "plot.function(lambda n : (fac(n)-np.sqrt(2* np.pi* n) *  n**n *np.exp(-n))/fac(n) *100 ,xmin = 1,xmax=140,xlabel=\"N\", ylabel=\"Rel. diff. between factorial und stirling [%]\",label=\"\",logy=True,tight=False,init=True)\n",
    "    "
   ]
  },
  {
   "cell_type": "code",
   "execution_count": null,
   "id": "db9d23ad",
   "metadata": {},
   "outputs": [],
   "source": []
  }
 ],
 "metadata": {
  "kernelspec": {
   "display_name": "Python 3 (ipykernel)",
   "language": "python",
   "name": "python3"
  },
  "language_info": {
   "codemirror_mode": {
    "name": "ipython",
    "version": 3
   },
   "file_extension": ".py",
   "mimetype": "text/x-python",
   "name": "python",
   "nbconvert_exporter": "python",
   "pygments_lexer": "ipython3",
   "version": "3.9.13"
  }
 },
 "nbformat": 4,
 "nbformat_minor": 5
}
