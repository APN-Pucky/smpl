{
 "cells": [
  {
   "cell_type": "markdown",
   "id": "64bb30da",
   "metadata": {},
   "source": [
    "# Interactive"
   ]
  },
  {
   "cell_type": "code",
   "execution_count": 1,
   "id": "85fc6b44",
   "metadata": {},
   "outputs": [],
   "source": [
    "from smpl import animation\n",
    "from smpl import plot\n",
    "import matplotlib.pyplot as plt\n",
    "import scipy\n",
    "import numpy as np\n",
    "import tqdm\n",
    "import uncertainties as unc\n",
    "from uncertainties import unumpy\n",
    "from ipywidgets import widgets"
   ]
  },
  {
   "cell_type": "code",
   "execution_count": 2,
   "id": "fdfa2b69",
   "metadata": {
    "scrolled": false
   },
   "outputs": [
    {
     "data": {
      "application/vnd.jupyter.widget-view+json": {
       "model_id": "2ff6ff76a6564eb58058a05945cbe231",
       "version_major": 2,
       "version_minor": 0
      },
      "text/plain": [
       "SelectionSlider(options=(0, 1, 2, 3, 4, 5, 6, 7, 8, 9, 10, 11, 12, 13, 14, 15, 16, 17, 18, 19, 20, 21, 22, 23,…"
      ]
     },
     "metadata": {},
     "output_type": "display_data"
    },
    {
     "data": {
      "application/vnd.jupyter.widget-view+json": {
       "model_id": "6008364019bf4911adcb290b7d553006",
       "version_major": 2,
       "version_minor": 0
      },
      "text/plain": [
       "Tab(children=(Image(value=b'\\x89PNG\\r\\n\\x1a\\n\\x00\\x00\\x00\\rIHDR\\x00\\x00\\x01\\xb0\\x00\\x00\\x01 \\x08\\x06\\x00\\x00\\x…"
      ]
     },
     "metadata": {},
     "output_type": "display_data"
    },
    {
     "data": {
      "application/vnd.jupyter.widget-view+json": {
       "model_id": "81449c22dbcb4e7fbe9710e26efcc1ba",
       "version_major": 2,
       "version_minor": 0
      },
      "text/plain": [
       "Output(layout=Layout(border='1px solid black'), outputs=({'output_type': 'display_data', 'data': {}, 'metadata…"
      ]
     },
     "metadata": {},
     "output_type": "display_data"
    },
    {
     "data": {
      "text/plain": [
       "<Figure size 432x288 with 0 Axes>"
      ]
     },
     "metadata": {},
     "output_type": "display_data"
    }
   ],
   "source": [
    "def fta(n = 1.0):\n",
    "    plot.function(lambda x : np.exp(n*np.log(x)-x),xmin = 0.1,xmax=100,tight=False,init=False)\n",
    "    \n",
    "animation.interactive(fta,widgets.IntSlider(value=0,min=0,max=100),prerender=True)"
   ]
  },
  {
   "cell_type": "code",
   "execution_count": 4,
   "id": "59c122db",
   "metadata": {},
   "outputs": [
    {
     "data": {
      "application/vnd.jupyter.widget-view+json": {
       "model_id": "04551120bf9a477d87d691e3a9abee67",
       "version_major": 2,
       "version_minor": 0
      },
      "text/plain": [
       "SelectionSlider(options=(1, 2, 3, 4, 5, 6, 7, 8, 9, 10, 11, 12, 13, 14, 15, 16, 17, 18, 19, 20, 21, 22, 23, 24…"
      ]
     },
     "metadata": {},
     "output_type": "display_data"
    },
    {
     "data": {
      "application/vnd.jupyter.widget-view+json": {
       "model_id": "acf1db7049f94fe5aaabe309c7d669ac",
       "version_major": 2,
       "version_minor": 0
      },
      "text/plain": [
       "Tab(children=(Image(value=b'\\x89PNG\\r\\n\\x1a\\n\\x00\\x00\\x00\\rIHDR\\x00\\x00\\x01\\xb0\\x00\\x00\\x01 \\x08\\x06\\x00\\x00\\x…"
      ]
     },
     "metadata": {},
     "output_type": "display_data"
    },
    {
     "data": {
      "application/vnd.jupyter.widget-view+json": {
       "model_id": "c04892eac6a047409f4655149740f473",
       "version_major": 2,
       "version_minor": 0
      },
      "text/plain": [
       "Output(layout=Layout(border='1px solid black'), outputs=({'output_type': 'display_data', 'data': {}, 'metadata…"
      ]
     },
     "metadata": {},
     "output_type": "display_data"
    },
    {
     "data": {
      "text/plain": [
       "<Figure size 432x288 with 0 Axes>"
      ]
     },
     "metadata": {},
     "output_type": "display_data"
    }
   ],
   "source": [
    "#%matplotlib notebook\n",
    "#plt.ioff()\n",
    "#import ipywidgets\n",
    "def fta(n = 1.0):\n",
    "    plot.function(lambda x : np.exp(n*np.log(x)-x),xmin = 0.1,xmax=100,tight=False,init=False)\n",
    "    plot.function(lambda x : np.exp(n*np.log(n)-n-(x-n)**2/2/n),xmin = 0.1,xmax=100,tight=False,init=False)\n",
    "    fac = np.math.factorial(n)\n",
    "    sti = np.sqrt(2* np.pi* n) *  n**n *np.exp(-n) \n",
    "    #print(\"FAKULTÄT(\"+str(n)+\") = \" + str(fac))\n",
    "    #print(\"STIRLING(\"+str(n)+\") = \" +  str(sti))\n",
    "    #print(\"REL-DIFF(\" + str(n)+\") = \"+ str((sti-fac)/fac*100) + \"%\")\n",
    "    \n",
    "animation.interactive(fta,  widgets.IntSlider(min=1, max=130, step=1, value=1)) "
   ]
  },
  {
   "cell_type": "code",
   "execution_count": 5,
   "id": "f10bbf12",
   "metadata": {},
   "outputs": [
    {
     "name": "stderr",
     "output_type": "stream",
     "text": [
      "No artists with labels found to put in legend.  Note that artists whose label start with an underscore are ignored when legend() is called with no argument.\n"
     ]
    },
    {
     "data": {
      "image/png": "[encoded data removed]",
      "text/plain": [
       "<Figure size 432x288 with 1 Axes>"
      ]
     },
     "metadata": {
      "needs_background": "light"
     },
     "output_type": "display_data"
    }
   ],
   "source": [
    "# Approximate factorial by gamma\n",
    "def fac(n):\n",
    "    return scipy.special.gamma(n+1)\n",
    "\n",
    "plot.function(lambda n : (fac(n)-np.sqrt(2* np.pi* n) *  n**n *np.exp(-n))/fac(n) *100 ,xmin = 1,xmax=140,xlabel=\"N\", ylabel=\"Rel. diff. between factorial und stirling [%]\",label=\"\",logy=True,tight=False,init=True)\n",
    "    "
   ]
  },
  {
   "cell_type": "code",
   "execution_count": null,
   "id": "db9d23ad",
   "metadata": {},
   "outputs": [],
   "source": []
  }
 ],
 "metadata": {
  "kernelspec": {
   "display_name": "Python 3",
   "language": "python",
   "name": "python3"
  },
  "language_info": {
   "codemirror_mode": {
    "name": "ipython",
    "version": 3
   },
   "file_extension": ".py",
   "mimetype": "text/x-python",
   "name": "python",
   "nbconvert_exporter": "python",
   "pygments_lexer": "ipython3",
   "version": "3.9.13"
  }
 },
 "nbformat": 4,
 "nbformat_minor": 5
}
