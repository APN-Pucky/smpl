{
 "cells": [
  {
   "cell_type": "markdown",
   "metadata": {},
   "source": [
    "# Selective fit range"
   ]
  },
  {
   "cell_type": "code",
   "execution_count": null,
   "metadata": {},
   "outputs": [],
   "source": [
    "import numpy as np\n",
    "from smpl import plot\n",
    "from smpl import io\n",
    "from smpl import stat\n",
    "from smpl import functions as f\n",
    "import uncertainties.unumpy as unp\n",
    "import smpl\n",
    "np.random.seed(1337)\n",
    "smpl.__version__"
   ]
  },
  {
   "cell_type": "code",
   "execution_count": null,
   "metadata": {},
   "outputs": [],
   "source": [
    "\n",
    "data = np.loadtxt(io.find_file('test_data.txt',3))\n",
    "xdata = data[:,0]\n",
    "xerr = data[:,2]\n",
    "ydata = data[:,1]\n",
    "yerr = data[:,3]\n",
    "x = unp.uarray(xdata,xerr)\n",
    "y = unp.uarray(ydata,yerr)"
   ]
  },
  {
   "cell_type": "code",
   "execution_count": null,
   "metadata": {},
   "outputs": [],
   "source": [
    "\n"
   ]
  },
  {
   "cell_type": "code",
   "execution_count": null,
   "metadata": {},
   "outputs": [],
   "source": [
    "\n",
    "\n",
    "ff = plot.fit(xdata, ydata, fmt='.', label='data', xlabel=\"x in a.u.\",ylabel=\"y in a.u.\",function=f.line, frange=[0,6])\n",
    "ff = plot.fit(xdata, ydata, fmt='.', label='data', xlabel=\"x in a.u.\",ylabel=\"y in a.u.\",function=f.line, frange=[6,10],also_data=False)"
   ]
  },
  {
   "cell_type": "code",
   "execution_count": null,
   "metadata": {},
   "outputs": [],
   "source": [
    "\n",
    "ff = plot.fit(x, y, fmt='.', label='data', xlabel=\"x in a.u.\",ylabel=\"y in a.u.\",function=f.line, fselector=lambda x,y : x<10)\n",
    "ff = plot.fit(x, y, fmt='.', label='data', xlabel=\"x in a.u.\",ylabel=\"y in a.u.\",function=f.line, fselector=x >10,also_data=False)"
   ]
  },
  {
   "cell_type": "code",
   "execution_count": null,
   "metadata": {},
   "outputs": [],
   "source": [
    "def sinus(x,a,f,p,y):\n",
    "    return a*unp.sin(f*x+p)+y\n",
    "x= np.linspace(-5,5,1000)\n",
    "y = stat.noisy(np.sin(3.5*x +4)*4,std=0.05)-2\n",
    "ff = plot.fit(x[x<0], y[x<0],sinus, fmt='.', label='data', xlabel=\"x in a.u.\",ylabel=\"y in a.u.\",sigmas=1,frange=[0,75])"
   ]
  },
  {
   "cell_type": "code",
   "execution_count": null,
   "metadata": {},
   "outputs": [],
   "source": [
    "x= np.linspace(-5,5,1000)\n",
    "y = stat.noisy(np.sin(3.5*x +4)*4,std=0.05)-2\n",
    "ff = plot.fit(x, y,sinus, fmt='.', label='data', xlabel=\"x in a.u.\",ylabel=\"y in a.u.\",sigmas=1,fselector= x>0)"
   ]
  },
  {
   "cell_type": "code",
   "execution_count": null,
   "metadata": {},
   "outputs": [],
   "source": [
    "x= np.linspace(-5,5,200)\n",
    "y = stat.noisy(np.sin(3.5*x +4)*4,std=0.1)-2\n",
    "ff = plot.fit(x, y,sinus, fmt='.', label='data', xlabel=\"x in a.u.\",ylabel=\"y in a.u.\",sigmas=1,fselector= x>0,extrapolate=False)"
   ]
  },
  {
   "cell_type": "code",
   "execution_count": null,
   "metadata": {},
   "outputs": [],
   "source": []
  },
  {
   "cell_type": "code",
   "execution_count": null,
   "metadata": {},
   "outputs": [],
   "source": []
  },
  {
   "cell_type": "code",
   "execution_count": null,
   "metadata": {},
   "outputs": [],
   "source": []
  },
  {
   "cell_type": "code",
   "execution_count": null,
   "metadata": {},
   "outputs": [],
   "source": []
  }
 ],
 "metadata": {
  "kernelspec": {
   "display_name": "Python 3 (ipykernel)",
   "language": "python",
   "name": "python3"
  },
  "language_info": {
   "codemirror_mode": {
    "name": "ipython",
    "version": 3
   },
   "file_extension": ".py",
   "mimetype": "text/x-python",
   "name": "python",
   "nbconvert_exporter": "python",
   "pygments_lexer": "ipython3",
   "version": "3.9.15"
  }
 },
 "nbformat": 4,
 "nbformat_minor": 4
}
