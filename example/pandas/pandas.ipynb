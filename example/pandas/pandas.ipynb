{
 "cells": [
  {
   "cell_type": "markdown",
   "metadata": {},
   "source": [
    "# pandas\n",
    "\n",
    "see: https://pandas.pydata.org/pandas-docs/stable/"
   ]
  },
  {
   "cell_type": "code",
   "execution_count": 1,
   "metadata": {
    "execution": {
     "iopub.execute_input": "2020-12-19T20:18:34.365494Z",
     "iopub.status.busy": "2020-12-19T20:18:34.364926Z",
     "iopub.status.idle": "2020-12-19T20:18:34.602364Z",
     "shell.execute_reply": "2020-12-19T20:18:34.601791Z"
    }
   },
   "outputs": [],
   "source": [
    "import pandas as pd"
   ]
  },
  {
   "cell_type": "markdown",
   "metadata": {},
   "source": [
    "## Read"
   ]
  },
  {
   "cell_type": "code",
   "execution_count": 2,
   "metadata": {
    "execution": {
     "iopub.execute_input": "2020-12-19T20:18:34.607097Z",
     "iopub.status.busy": "2020-12-19T20:18:34.606508Z",
     "iopub.status.idle": "2020-12-19T20:18:34.621515Z",
     "shell.execute_reply": "2020-12-19T20:18:34.621990Z"
    }
   },
   "outputs": [
    {
     "data": {
      "text/html": [
       "<div>\n",
       "<style scoped>\n",
       "    .dataframe tbody tr th:only-of-type {\n",
       "        vertical-align: middle;\n",
       "    }\n",
       "\n",
       "    .dataframe tbody tr th {\n",
       "        vertical-align: top;\n",
       "    }\n",
       "\n",
       "    .dataframe thead th {\n",
       "        text-align: right;\n",
       "    }\n",
       "</style>\n",
       "<table border=\"1\" class=\"dataframe\">\n",
       "  <thead>\n",
       "    <tr style=\"text-align: right;\">\n",
       "      <th></th>\n",
       "      <th>x</th>\n",
       "      <th>y</th>\n",
       "      <th>dx</th>\n",
       "      <th>dy</th>\n",
       "    </tr>\n",
       "  </thead>\n",
       "  <tbody>\n",
       "    <tr>\n",
       "      <th>0</th>\n",
       "      <td>0</td>\n",
       "      <td>1</td>\n",
       "      <td>0.1</td>\n",
       "      <td>0.2</td>\n",
       "    </tr>\n",
       "    <tr>\n",
       "      <th>1</th>\n",
       "      <td>1</td>\n",
       "      <td>2</td>\n",
       "      <td>0.2</td>\n",
       "      <td>0.1</td>\n",
       "    </tr>\n",
       "    <tr>\n",
       "      <th>2</th>\n",
       "      <td>2</td>\n",
       "      <td>3</td>\n",
       "      <td>0.3</td>\n",
       "      <td>0.1</td>\n",
       "    </tr>\n",
       "    <tr>\n",
       "      <th>3</th>\n",
       "      <td>3</td>\n",
       "      <td>5</td>\n",
       "      <td>0.1</td>\n",
       "      <td>0.4</td>\n",
       "    </tr>\n",
       "    <tr>\n",
       "      <th>4</th>\n",
       "      <td>4</td>\n",
       "      <td>5</td>\n",
       "      <td>0.1</td>\n",
       "      <td>0.1</td>\n",
       "    </tr>\n",
       "    <tr>\n",
       "      <th>5</th>\n",
       "      <td>5</td>\n",
       "      <td>6</td>\n",
       "      <td>0.1</td>\n",
       "      <td>0.2</td>\n",
       "    </tr>\n",
       "  </tbody>\n",
       "</table>\n",
       "</div>"
      ],
      "text/plain": [
       "   x  y   dx   dy\n",
       "0  0  1  0.1  0.2\n",
       "1  1  2  0.2  0.1\n",
       "2  2  3  0.3  0.1\n",
       "3  3  5  0.1  0.4\n",
       "4  4  5  0.1  0.1\n",
       "5  5  6  0.1  0.2"
      ]
     },
     "execution_count": 1,
     "metadata": {},
     "output_type": "execute_result"
    }
   ],
   "source": [
    "data = pd.read_csv('test_linear_data.txt',delimiter=\" \")\n",
    "data"
   ]
  },
  {
   "cell_type": "code",
   "execution_count": 3,
   "metadata": {
    "execution": {
     "iopub.execute_input": "2020-12-19T20:18:34.626105Z",
     "iopub.status.busy": "2020-12-19T20:18:34.625500Z",
     "iopub.status.idle": "2020-12-19T20:18:34.652892Z",
     "shell.execute_reply": "2020-12-19T20:18:34.653376Z"
    }
   },
   "outputs": [
    {
     "data": {
      "text/html": [
       "<div>\n",
       "<style scoped>\n",
       "    .dataframe tbody tr th:only-of-type {\n",
       "        vertical-align: middle;\n",
       "    }\n",
       "\n",
       "    .dataframe tbody tr th {\n",
       "        vertical-align: top;\n",
       "    }\n",
       "\n",
       "    .dataframe thead th {\n",
       "        text-align: right;\n",
       "    }\n",
       "</style>\n",
       "<table border=\"1\" class=\"dataframe\">\n",
       "  <thead>\n",
       "    <tr style=\"text-align: right;\">\n",
       "      <th></th>\n",
       "      <th>x</th>\n",
       "      <th>y</th>\n",
       "      <th>dx</th>\n",
       "      <th>dy</th>\n",
       "      <th>z</th>\n",
       "    </tr>\n",
       "  </thead>\n",
       "  <tbody>\n",
       "    <tr>\n",
       "      <th>0</th>\n",
       "      <td>0</td>\n",
       "      <td>1</td>\n",
       "      <td>0.1</td>\n",
       "      <td>0.2</td>\n",
       "      <td>0</td>\n",
       "    </tr>\n",
       "    <tr>\n",
       "      <th>1</th>\n",
       "      <td>1</td>\n",
       "      <td>2</td>\n",
       "      <td>0.2</td>\n",
       "      <td>0.1</td>\n",
       "      <td>2</td>\n",
       "    </tr>\n",
       "    <tr>\n",
       "      <th>2</th>\n",
       "      <td>2</td>\n",
       "      <td>3</td>\n",
       "      <td>0.3</td>\n",
       "      <td>0.1</td>\n",
       "      <td>6</td>\n",
       "    </tr>\n",
       "    <tr>\n",
       "      <th>3</th>\n",
       "      <td>3</td>\n",
       "      <td>5</td>\n",
       "      <td>0.1</td>\n",
       "      <td>0.4</td>\n",
       "      <td>15</td>\n",
       "    </tr>\n",
       "    <tr>\n",
       "      <th>4</th>\n",
       "      <td>4</td>\n",
       "      <td>5</td>\n",
       "      <td>0.1</td>\n",
       "      <td>0.1</td>\n",
       "      <td>20</td>\n",
       "    </tr>\n",
       "    <tr>\n",
       "      <th>5</th>\n",
       "      <td>5</td>\n",
       "      <td>6</td>\n",
       "      <td>0.1</td>\n",
       "      <td>0.2</td>\n",
       "      <td>30</td>\n",
       "    </tr>\n",
       "  </tbody>\n",
       "</table>\n",
       "</div>"
      ],
      "text/plain": [
       "   x  y   dx   dy   z\n",
       "0  0  1  0.1  0.2   0\n",
       "1  1  2  0.2  0.1   2\n",
       "2  2  3  0.3  0.1   6\n",
       "3  3  5  0.1  0.4  15\n",
       "4  4  5  0.1  0.1  20\n",
       "5  5  6  0.1  0.2  30"
      ]
     },
     "execution_count": 1,
     "metadata": {},
     "output_type": "execute_result"
    }
   ],
   "source": [
    "data['z'] = data['x']*data['y']\n",
    "data"
   ]
  },
  {
   "cell_type": "code",
   "execution_count": 4,
   "metadata": {
    "execution": {
     "iopub.execute_input": "2020-12-19T20:18:34.658511Z",
     "iopub.status.busy": "2020-12-19T20:18:34.657938Z",
     "iopub.status.idle": "2020-12-19T20:18:34.859166Z",
     "shell.execute_reply": "2020-12-19T20:18:34.859709Z"
    }
   },
   "outputs": [
    {
     "data": {
      "text/plain": [
       "<matplotlib.axes._subplots.AxesSubplot at 0x7f9d2aeeef28>"
      ]
     },
     "execution_count": 1,
     "metadata": {},
     "output_type": "execute_result"
    }
   ],
   "source": [
    "data.plot(x='x',y='z')"
   ]
  },
  {
   "cell_type": "markdown",
   "metadata": {},
   "source": [
    "## To Latex"
   ]
  },
  {
   "cell_type": "code",
   "execution_count": 5,
   "metadata": {
    "execution": {
     "iopub.execute_input": "2020-12-19T20:18:34.867674Z",
     "iopub.status.busy": "2020-12-19T20:18:34.866359Z",
     "iopub.status.idle": "2020-12-19T20:18:34.870123Z",
     "shell.execute_reply": "2020-12-19T20:18:34.870679Z"
    }
   },
   "outputs": [
    {
     "name": "stdout",
     "output_type": "stream",
     "text": [
      "\\begin{tabular}{llll}\n",
      "\\toprule\n",
      "{} &    mask &       name &    weapon \\\\\n",
      "\\midrule\n",
      "0 &     red &    Raphael &       sai \\\\\n",
      "1 &  purple &  Donatello &  bo staff \\\\\n",
      "\\bottomrule\n",
      "\\end{tabular}\n",
      "\n"
     ]
    }
   ],
   "source": [
    "df = pd.DataFrame({'name': ['Raphael', 'Donatello'],\n",
    "\n",
    "                   'mask': ['red', 'purple'],\n",
    "\n",
    "                   'weapon': ['sai', 'bo staff']})\n",
    "print(df.to_latex())"
   ]
  },
  {
   "cell_type": "markdown",
   "metadata": {},
   "source": [
    "Needs \\usepackage{booktabs}"
   ]
  },
  {
   "cell_type": "code",
   "execution_count": null,
   "metadata": {},
   "outputs": [],
   "source": []
  },
  {
   "cell_type": "markdown",
   "metadata": {},
   "source": [
    "## pandas + uncertainties"
   ]
  },
  {
   "cell_type": "code",
   "execution_count": 6,
   "metadata": {
    "execution": {
     "iopub.execute_input": "2020-12-19T20:18:34.873476Z",
     "iopub.status.busy": "2020-12-19T20:18:34.872728Z",
     "iopub.status.idle": "2020-12-19T20:18:34.884599Z",
     "shell.execute_reply": "2020-12-19T20:18:34.885088Z"
    }
   },
   "outputs": [],
   "source": [
    "import uncertainties.unumpy as unp"
   ]
  },
  {
   "cell_type": "code",
   "execution_count": 7,
   "metadata": {
    "execution": {
     "iopub.execute_input": "2020-12-19T20:18:34.887625Z",
     "iopub.status.busy": "2020-12-19T20:18:34.887024Z",
     "iopub.status.idle": "2020-12-19T20:18:34.902442Z",
     "shell.execute_reply": "2020-12-19T20:18:34.901927Z"
    }
   },
   "outputs": [
    {
     "data": {
      "text/html": [
       "<div>\n",
       "<style scoped>\n",
       "    .dataframe tbody tr th:only-of-type {\n",
       "        vertical-align: middle;\n",
       "    }\n",
       "\n",
       "    .dataframe tbody tr th {\n",
       "        vertical-align: top;\n",
       "    }\n",
       "\n",
       "    .dataframe thead th {\n",
       "        text-align: right;\n",
       "    }\n",
       "</style>\n",
       "<table border=\"1\" class=\"dataframe\">\n",
       "  <thead>\n",
       "    <tr style=\"text-align: right;\">\n",
       "      <th></th>\n",
       "      <th>x</th>\n",
       "      <th>y</th>\n",
       "      <th>z</th>\n",
       "    </tr>\n",
       "  </thead>\n",
       "  <tbody>\n",
       "    <tr>\n",
       "      <th>0</th>\n",
       "      <td>0.00+/-0.10</td>\n",
       "      <td>1.00+/-0.20</td>\n",
       "      <td>0.00+/-0.10</td>\n",
       "    </tr>\n",
       "    <tr>\n",
       "      <th>1</th>\n",
       "      <td>1.00+/-0.20</td>\n",
       "      <td>2.00+/-0.10</td>\n",
       "      <td>2.0+/-0.4</td>\n",
       "    </tr>\n",
       "    <tr>\n",
       "      <th>2</th>\n",
       "      <td>2.00+/-0.30</td>\n",
       "      <td>3.00+/-0.10</td>\n",
       "      <td>6.0+/-0.9</td>\n",
       "    </tr>\n",
       "    <tr>\n",
       "      <th>3</th>\n",
       "      <td>3.00+/-0.10</td>\n",
       "      <td>5.0+/-0.4</td>\n",
       "      <td>15.0+/-1.3</td>\n",
       "    </tr>\n",
       "    <tr>\n",
       "      <th>4</th>\n",
       "      <td>4.00+/-0.10</td>\n",
       "      <td>5.00+/-0.10</td>\n",
       "      <td>20.0+/-0.6</td>\n",
       "    </tr>\n",
       "    <tr>\n",
       "      <th>5</th>\n",
       "      <td>5.00+/-0.10</td>\n",
       "      <td>6.00+/-0.20</td>\n",
       "      <td>30.0+/-1.2</td>\n",
       "    </tr>\n",
       "  </tbody>\n",
       "</table>\n",
       "</div>"
      ],
      "text/plain": [
       "             x            y            z\n",
       "0  0.00+/-0.10  1.00+/-0.20  0.00+/-0.10\n",
       "1  1.00+/-0.20  2.00+/-0.10    2.0+/-0.4\n",
       "2  2.00+/-0.30  3.00+/-0.10    6.0+/-0.9\n",
       "3  3.00+/-0.10    5.0+/-0.4   15.0+/-1.3\n",
       "4  4.00+/-0.10  5.00+/-0.10   20.0+/-0.6\n",
       "5  5.00+/-0.10  6.00+/-0.20   30.0+/-1.2"
      ]
     },
     "execution_count": 1,
     "metadata": {},
     "output_type": "execute_result"
    }
   ],
   "source": [
    "rdata = pd.read_csv('test_linear_data.txt',delimiter=\" \")\n",
    "data = pd.DataFrame()\n",
    "data['x'] = unp.uarray(rdata['x'],rdata['dx'])\n",
    "data['y'] = unp.uarray(rdata['y'],rdata['dy'])\n",
    "data['z'] = data['x']*data['y']\n",
    "data"
   ]
  },
  {
   "cell_type": "code",
   "execution_count": 8,
   "metadata": {
    "execution": {
     "iopub.execute_input": "2020-12-19T20:18:34.908968Z",
     "iopub.status.busy": "2020-12-19T20:18:34.908393Z",
     "iopub.status.idle": "2020-12-19T20:18:34.910379Z",
     "shell.execute_reply": "2020-12-19T20:18:34.910843Z"
    }
   },
   "outputs": [
    {
     "name": "stdout",
     "output_type": "stream",
     "text": [
      "\\begin{tabular}{llll}\n",
      "\\toprule\n",
      "{} &            x &            y &            z \\\\\n",
      "\\midrule\n",
      "0 &  0.00+/-0.10 &  1.00+/-0.20 &  0.00+/-0.10 \\\\\n",
      "1 &  1.00+/-0.20 &  2.00+/-0.10 &    2.0+/-0.4 \\\\\n",
      "2 &  2.00+/-0.30 &  3.00+/-0.10 &    6.0+/-0.9 \\\\\n",
      "3 &  3.00+/-0.10 &    5.0+/-0.4 &   15.0+/-1.3 \\\\\n",
      "4 &  4.00+/-0.10 &  5.00+/-0.10 &   20.0+/-0.6 \\\\\n",
      "5 &  5.00+/-0.10 &  6.00+/-0.20 &   30.0+/-1.2 \\\\\n",
      "\\bottomrule\n",
      "\\end{tabular}\n",
      "\n"
     ]
    }
   ],
   "source": [
    "print(data.to_latex())"
   ]
  },
  {
   "cell_type": "code",
   "execution_count": null,
   "metadata": {},
   "outputs": [],
   "source": []
  },
  {
   "cell_type": "markdown",
   "metadata": {},
   "source": [
    "## pandas + plot"
   ]
  },
  {
   "cell_type": "code",
   "execution_count": 9,
   "metadata": {
    "execution": {
     "iopub.execute_input": "2020-12-19T20:18:34.914652Z",
     "iopub.status.busy": "2020-12-19T20:18:34.914087Z",
     "iopub.status.idle": "2020-12-19T20:18:35.232260Z",
     "shell.execute_reply": "2020-12-19T20:18:35.232745Z"
    }
   },
   "outputs": [
    {
     "data": {
      "image/png": "[encoded data removed]",
      "text/plain": [
       "<matplotlib.figure.Figure at 0x7f9d2ab9f710>"
      ]
     },
     "metadata": {},
     "output_type": "display_data"
    },
    {
     "data": {
      "image/png": "[encoded data removed]",
      "text/plain": [
       "<matplotlib.figure.Figure at 0x7f9d248eb208>"
      ]
     },
     "metadata": {},
     "output_type": "display_data"
    }
   ],
   "source": [
    "from smpl import plot\n",
    "plot.data(data['x'],data['y'])\n",
    "plot.data(data['x'],data['z'])"
   ]
  },
  {
   "cell_type": "code",
   "execution_count": null,
   "metadata": {},
   "outputs": [],
   "source": []
  }
 ],
 "metadata": {
  "kernelspec": {
   "display_name": "Python 3",
   "language": "python",
   "name": "python3"
  },
  "language_info": {
   "codemirror_mode": {
    "name": "ipython",
    "version": 3
   },
   "file_extension": ".py",
   "mimetype": "text/x-python",
   "name": "python",
   "nbconvert_exporter": "python",
   "pygments_lexer": "ipython3",
   "version": "3.6.9"
  }
 },
 "nbformat": 4,
 "nbformat_minor": 4
}
