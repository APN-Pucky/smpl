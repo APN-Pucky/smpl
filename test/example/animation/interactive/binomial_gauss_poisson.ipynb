{
 "cells": [
  {
   "cell_type": "markdown",
   "id": "64bb30da",
   "metadata": {},
   "source": [
    "# SubPlotInteractive"
   ]
  },
  {
   "cell_type": "code",
   "execution_count": 1,
   "id": "85fc6b44",
   "metadata": {
    "execution": {
     "iopub.execute_input": "2022-10-27T12:23:07.220954Z",
     "iopub.status.busy": "2022-10-27T12:23:07.220438Z",
     "iopub.status.idle": "2022-10-27T12:23:08.736895Z",
     "shell.execute_reply": "2022-10-27T12:23:08.736268Z"
    }
   },
   "outputs": [],
   "source": [
    "from smpl import animation\n",
    "from smpl import plot\n",
    "import matplotlib.pyplot as plt\n",
    "import scipy\n",
    "import numpy as np\n",
    "import tqdm\n",
    "import uncertainties as unc\n",
    "from uncertainties import unumpy\n",
    "from ipywidgets import widgets\n",
    "from sympy import binomial\n",
    "from smpl.functions import fac"
   ]
  },
  {
   "cell_type": "code",
   "execution_count": 2,
   "id": "59c122db",
   "metadata": {
    "execution": {
     "iopub.execute_input": "2022-10-27T12:23:08.740182Z",
     "iopub.status.busy": "2022-10-27T12:23:08.739771Z",
     "iopub.status.idle": "2022-10-27T12:23:09.023143Z",
     "shell.execute_reply": "2022-10-27T12:23:09.022584Z"
    }
   },
   "outputs": [
    {
     "data": {
      "application/vnd.jupyter.widget-view+json": {
       "model_id": "e2dcca47fd2a476db0f48d529c71b57c",
       "version_major": 2,
       "version_minor": 0
      },
      "text/plain": [
       "interactive(children=(IntSlider(value=1, description='N_tot', min=1), FloatSlider(value=0.1, description='p', …"
      ]
     },
     "metadata": {},
     "output_type": "display_data"
    }
   ],
   "source": [
    "#%matplotlib notebook\n",
    "#plt.ioff()\n",
    "import ipywidgets\n",
    "\n",
    "def fta(N_tot = 1.0,p=1.0):\n",
    "    fig, axs = plot.subplots(2, 1,  sharex=True)\n",
    "    fig.subplots_adjust(hspace=0)\n",
    "    n_bar = N_tot*p\n",
    "    bina = lambda n: fac(N_tot)/(fac(n)*fac(N_tot-n))*p**n*(1.-p)**(N_tot-n)\n",
    "    gaus = lambda n: np.sqrt(N_tot/(2*np.pi*(n_bar)*(N_tot-n_bar)))*np.exp(-(n-n_bar)**2/2*N_tot/(n_bar*(N_tot-n_bar)))\n",
    "    poisson  =  lambda n : n_bar**n*np.exp(-n_bar)/fac(n)\n",
    "    plot.function(bina,label=\"binomial\",axes=axs[0],tight=False,xmin=0,xmax=N_tot)\n",
    "    plot.function(gaus,label=\"gauss\",axes=axs[0],tight=False,xmin=0,xmax=N_tot)\n",
    "    plot.function(poisson,label=\"poisson\",axes=axs[0],tight=False,xmin=0,xmax=N_tot)\n",
    "    plot.function(lambda n: (bina(n)-gaus(n)),label=\"diff binomial to gauss\",axes=axs[1],tight=False,xmin=0,xmax=N_tot)\n",
    "    plot.function(lambda n: (bina(n)-poisson(n)),label=\"diff binomial to poisson\",axes=axs[1],tight=False,xmin=0,xmax=N_tot)\n",
    "    \n",
    "    #plot.function(lambda n: N_tot*n**5,axes=axs[1],tight=False,xmin=0,xmax=1)\n",
    "    \n",
    "ipywidgets.interactive(fta,  N_tot=widgets.IntSlider(min=1, max=100, step=1, value=1),  p=widgets.FloatSlider(min=0, max=1, step=0.01, value=0.1)) "
   ]
  },
  {
   "cell_type": "code",
   "execution_count": null,
   "id": "db9d23ad",
   "metadata": {},
   "outputs": [],
   "source": []
  },
  {
   "cell_type": "code",
   "execution_count": null,
   "id": "d63bc003",
   "metadata": {},
   "outputs": [],
   "source": []
  }
 ],
 "metadata": {
  "kernelspec": {
   "display_name": "Python 3",
   "language": "python",
   "name": "python3"
  },
  "language_info": {
   "codemirror_mode": {
    "name": "ipython",
    "version": 3
   },
   "file_extension": ".py",
   "mimetype": "text/x-python",
   "name": "python",
   "nbconvert_exporter": "python",
   "pygments_lexer": "ipython3",
   "version": "3.8.10"
  },
  "widgets": {
   "application/vnd.jupyter.widget-state+json": {
    "state": {
     "1815c6696fcb4b92b88f962395589fbe": {
      "model_module": "@jupyter-widgets/controls",
      "model_module_version": "1.5.0",
      "model_name": "IntSliderModel",
      "state": {
       "_dom_classes": [],
       "_model_module": "@jupyter-widgets/controls",
       "_model_module_version": "1.5.0",
       "_model_name": "IntSliderModel",
       "_view_count": null,
       "_view_module": "@jupyter-widgets/controls",
       "_view_module_version": "1.5.0",
       "_view_name": "IntSliderView",
       "continuous_update": true,
       "description": "N_tot",
       "description_tooltip": null,
       "disabled": false,
       "layout": "IPY_MODEL_aa3198386a4f411abbd4d9ae05ab9130",
       "max": 100,
       "min": 1,
       "orientation": "horizontal",
       "readout": true,
       "readout_format": "d",
       "step": 1,
       "style": "IPY_MODEL_d0ee46beae81448cb2b79755646cd49c",
       "value": 1
      }
     },
     "63479cc5b3804b6b88ea79c028b24435": {
      "model_module": "@jupyter-widgets/base",
      "model_module_version": "1.2.0",
      "model_name": "LayoutModel",
      "state": {
       "_model_module": "@jupyter-widgets/base",
       "_model_module_version": "1.2.0",
       "_model_name": "LayoutModel",
       "_view_count": null,
       "_view_module": "@jupyter-widgets/base",
       "_view_module_version": "1.2.0",
       "_view_name": "LayoutView",
       "align_content": null,
       "align_items": null,
       "align_self": null,
       "border": null,
       "bottom": null,
       "display": null,
       "flex": null,
       "flex_flow": null,
       "grid_area": null,
       "grid_auto_columns": null,
       "grid_auto_flow": null,
       "grid_auto_rows": null,
       "grid_column": null,
       "grid_gap": null,
       "grid_row": null,
       "grid_template_areas": null,
       "grid_template_columns": null,
       "grid_template_rows": null,
       "height": null,
       "justify_content": null,
       "justify_items": null,
       "left": null,
       "margin": null,
       "max_height": null,
       "max_width": null,
       "min_height": null,
       "min_width": null,
       "object_fit": null,
       "object_position": null,
       "order": null,
       "overflow": null,
       "overflow_x": null,
       "overflow_y": null,
       "padding": null,
       "right": null,
       "top": null,
       "visibility": null,
       "width": null
      }
     },
     "648a92c785324cfdaf63cd656e26e46a": {
      "model_module": "@jupyter-widgets/base",
      "model_module_version": "1.2.0",
      "model_name": "LayoutModel",
      "state": {
       "_model_module": "@jupyter-widgets/base",
       "_model_module_version": "1.2.0",
       "_model_name": "LayoutModel",
       "_view_count": null,
       "_view_module": "@jupyter-widgets/base",
       "_view_module_version": "1.2.0",
       "_view_name": "LayoutView",
       "align_content": null,
       "align_items": null,
       "align_self": null,
       "border": null,
       "bottom": null,
       "display": null,
       "flex": null,
       "flex_flow": null,
       "grid_area": null,
       "grid_auto_columns": null,
       "grid_auto_flow": null,
       "grid_auto_rows": null,
       "grid_column": null,
       "grid_gap": null,
       "grid_row": null,
       "grid_template_areas": null,
       "grid_template_columns": null,
       "grid_template_rows": null,
       "height": null,
       "justify_content": null,
       "justify_items": null,
       "left": null,
       "margin": null,
       "max_height": null,
       "max_width": null,
       "min_height": null,
       "min_width": null,
       "object_fit": null,
       "object_position": null,
       "order": null,
       "overflow": null,
       "overflow_x": null,
       "overflow_y": null,
       "padding": null,
       "right": null,
       "top": null,
       "visibility": null,
       "width": null
      }
     },
     "9f9c892057ff465ea4582160ce017a82": {
      "model_module": "@jupyter-widgets/controls",
      "model_module_version": "1.5.0",
      "model_name": "FloatSliderModel",
      "state": {
       "_dom_classes": [],
       "_model_module": "@jupyter-widgets/controls",
       "_model_module_version": "1.5.0",
       "_model_name": "FloatSliderModel",
       "_view_count": null,
       "_view_module": "@jupyter-widgets/controls",
       "_view_module_version": "1.5.0",
       "_view_name": "FloatSliderView",
       "continuous_update": true,
       "description": "p",
       "description_tooltip": null,
       "disabled": false,
       "layout": "IPY_MODEL_648a92c785324cfdaf63cd656e26e46a",
       "max": 1.0,
       "min": 0.0,
       "orientation": "horizontal",
       "readout": true,
       "readout_format": ".2f",
       "step": 0.01,
       "style": "IPY_MODEL_bbc649daec71453e8fdb38c976c031b4",
       "value": 0.1
      }
     },
     "aa3198386a4f411abbd4d9ae05ab9130": {
      "model_module": "@jupyter-widgets/base",
      "model_module_version": "1.2.0",
      "model_name": "LayoutModel",
      "state": {
       "_model_module": "@jupyter-widgets/base",
       "_model_module_version": "1.2.0",
       "_model_name": "LayoutModel",
       "_view_count": null,
       "_view_module": "@jupyter-widgets/base",
       "_view_module_version": "1.2.0",
       "_view_name": "LayoutView",
       "align_content": null,
       "align_items": null,
       "align_self": null,
       "border": null,
       "bottom": null,
       "display": null,
       "flex": null,
       "flex_flow": null,
       "grid_area": null,
       "grid_auto_columns": null,
       "grid_auto_flow": null,
       "grid_auto_rows": null,
       "grid_column": null,
       "grid_gap": null,
       "grid_row": null,
       "grid_template_areas": null,
       "grid_template_columns": null,
       "grid_template_rows": null,
       "height": null,
       "justify_content": null,
       "justify_items": null,
       "left": null,
       "margin": null,
       "max_height": null,
       "max_width": null,
       "min_height": null,
       "min_width": null,
       "object_fit": null,
       "object_position": null,
       "order": null,
       "overflow": null,
       "overflow_x": null,
       "overflow_y": null,
       "padding": null,
       "right": null,
       "top": null,
       "visibility": null,
       "width": null
      }
     },
     "bbc649daec71453e8fdb38c976c031b4": {
      "model_module": "@jupyter-widgets/controls",
      "model_module_version": "1.5.0",
      "model_name": "SliderStyleModel",
      "state": {
       "_model_module": "@jupyter-widgets/controls",
       "_model_module_version": "1.5.0",
       "_model_name": "SliderStyleModel",
       "_view_count": null,
       "_view_module": "@jupyter-widgets/base",
       "_view_module_version": "1.2.0",
       "_view_name": "StyleView",
       "description_width": "",
       "handle_color": null
      }
     },
     "c35c403d0e494da7b7bb6c4fb66aa0e1": {
      "model_module": "@jupyter-widgets/base",
      "model_module_version": "1.2.0",
      "model_name": "LayoutModel",
      "state": {
       "_model_module": "@jupyter-widgets/base",
       "_model_module_version": "1.2.0",
       "_model_name": "LayoutModel",
       "_view_count": null,
       "_view_module": "@jupyter-widgets/base",
       "_view_module_version": "1.2.0",
       "_view_name": "LayoutView",
       "align_content": null,
       "align_items": null,
       "align_self": null,
       "border": null,
       "bottom": null,
       "display": null,
       "flex": null,
       "flex_flow": null,
       "grid_area": null,
       "grid_auto_columns": null,
       "grid_auto_flow": null,
       "grid_auto_rows": null,
       "grid_column": null,
       "grid_gap": null,
       "grid_row": null,
       "grid_template_areas": null,
       "grid_template_columns": null,
       "grid_template_rows": null,
       "height": null,
       "justify_content": null,
       "justify_items": null,
       "left": null,
       "margin": null,
       "max_height": null,
       "max_width": null,
       "min_height": null,
       "min_width": null,
       "object_fit": null,
       "object_position": null,
       "order": null,
       "overflow": null,
       "overflow_x": null,
       "overflow_y": null,
       "padding": null,
       "right": null,
       "top": null,
       "visibility": null,
       "width": null
      }
     },
     "d0ee46beae81448cb2b79755646cd49c": {
      "model_module": "@jupyter-widgets/controls",
      "model_module_version": "1.5.0",
      "model_name": "SliderStyleModel",
      "state": {
       "_model_module": "@jupyter-widgets/controls",
       "_model_module_version": "1.5.0",
       "_model_name": "SliderStyleModel",
       "_view_count": null,
       "_view_module": "@jupyter-widgets/base",
       "_view_module_version": "1.2.0",
       "_view_name": "StyleView",
       "description_width": "",
       "handle_color": null
      }
     },
     "deab218b8c4c42cb95e5b7968b262e0a": {
      "model_module": "@jupyter-widgets/output",
      "model_module_version": "1.0.0",
      "model_name": "OutputModel",
      "state": {
       "_dom_classes": [],
       "_model_module": "@jupyter-widgets/output",
       "_model_module_version": "1.0.0",
       "_model_name": "OutputModel",
       "_view_count": null,
       "_view_module": "@jupyter-widgets/output",
       "_view_module_version": "1.0.0",
       "_view_name": "OutputView",
       "layout": "IPY_MODEL_c35c403d0e494da7b7bb6c4fb66aa0e1",
       "msg_id": "",
       "outputs": [
        {
         "data": {
          "image/png": "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\n",
          "text/plain": "<Figure size 432x288 with 2 Axes>"
         },
         "metadata": {
          "needs_background": "light"
         },
         "output_type": "display_data"
        }
       ]
      }
     },
     "e2dcca47fd2a476db0f48d529c71b57c": {
      "model_module": "@jupyter-widgets/controls",
      "model_module_version": "1.5.0",
      "model_name": "VBoxModel",
      "state": {
       "_dom_classes": [
        "widget-interact"
       ],
       "_model_module": "@jupyter-widgets/controls",
       "_model_module_version": "1.5.0",
       "_model_name": "VBoxModel",
       "_view_count": null,
       "_view_module": "@jupyter-widgets/controls",
       "_view_module_version": "1.5.0",
       "_view_name": "VBoxView",
       "box_style": "",
       "children": [
        "IPY_MODEL_1815c6696fcb4b92b88f962395589fbe",
        "IPY_MODEL_9f9c892057ff465ea4582160ce017a82",
        "IPY_MODEL_deab218b8c4c42cb95e5b7968b262e0a"
       ],
       "layout": "IPY_MODEL_63479cc5b3804b6b88ea79c028b24435"
      }
     }
    },
    "version_major": 2,
    "version_minor": 0
   }
  }
 },
 "nbformat": 4,
 "nbformat_minor": 5
}
