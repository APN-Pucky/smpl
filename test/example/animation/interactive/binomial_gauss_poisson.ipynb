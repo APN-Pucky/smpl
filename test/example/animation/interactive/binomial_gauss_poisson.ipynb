{
 "cells": [
  {
   "cell_type": "markdown",
   "id": "64bb30da",
   "metadata": {},
   "source": [
    "# SubPlotInteractive"
   ]
  },
  {
   "cell_type": "code",
   "execution_count": 1,
   "id": "85fc6b44",
   "metadata": {
    "execution": {
     "iopub.execute_input": "2022-12-05T18:34:41.605818Z",
     "iopub.status.busy": "2022-12-05T18:34:41.605505Z",
     "iopub.status.idle": "2022-12-05T18:34:43.179506Z",
     "shell.execute_reply": "2022-12-05T18:34:43.178567Z"
    }
   },
   "outputs": [],
   "source": [
    "from smpl import animation\n",
    "from smpl import plot\n",
    "import matplotlib.pyplot as plt\n",
    "import scipy\n",
    "import numpy as np\n",
    "import tqdm\n",
    "import uncertainties as unc\n",
    "from uncertainties import unumpy\n",
    "from ipywidgets import widgets\n",
    "from sympy import binomial\n",
    "from smpl.functions import fac"
   ]
  },
  {
   "cell_type": "code",
   "execution_count": 2,
   "id": "59c122db",
   "metadata": {
    "execution": {
     "iopub.execute_input": "2022-12-05T18:34:43.184356Z",
     "iopub.status.busy": "2022-12-05T18:34:43.183969Z",
     "iopub.status.idle": "2022-12-05T18:34:43.609610Z",
     "shell.execute_reply": "2022-12-05T18:34:43.608543Z"
    }
   },
   "outputs": [
    {
     "data": {
      "application/vnd.jupyter.widget-view+json": {
       "model_id": "90cb09f9644246d1a5e6ddeb4937365c",
       "version_major": 2,
       "version_minor": 0
      },
      "text/plain": [
       "interactive(children=(IntSlider(value=1, description='N_tot', min=1), FloatSlider(value=0.1, description='p', …"
      ]
     },
     "execution_count": 2,
     "metadata": {},
     "output_type": "execute_result"
    }
   ],
   "source": [
    "#%matplotlib notebook\n",
    "#plt.ioff()\n",
    "import ipywidgets\n",
    "\n",
    "def fta(N_tot = 1.0,p=1.0):\n",
    "    fig, axs = plot.subplots(2, 1,  sharex=True)\n",
    "    fig.subplots_adjust(hspace=0)\n",
    "    n_bar = N_tot*p\n",
    "    bina = lambda n: fac(N_tot)/(fac(n)*fac(N_tot-n))*p**n*(1.-p)**(N_tot-n)\n",
    "    gaus = lambda n: np.sqrt(N_tot/(2*np.pi*(n_bar)*(N_tot-n_bar)))*np.exp(-(n-n_bar)**2/2*N_tot/(n_bar*(N_tot-n_bar)))\n",
    "    poisson  =  lambda n : n_bar**n*np.exp(-n_bar)/fac(n)\n",
    "    plot.function(bina,label=\"binomial\",axes=axs[0],tight=False,xmin=0,xmax=N_tot)\n",
    "    plot.function(gaus,label=\"gauss\",axes=axs[0],tight=False,xmin=0,xmax=N_tot)\n",
    "    plot.function(poisson,label=\"poisson\",axes=axs[0],tight=False,xmin=0,xmax=N_tot)\n",
    "    plot.function(lambda n: (bina(n)-gaus(n)),label=\"diff binomial to gauss\",axes=axs[1],tight=False,xmin=0,xmax=N_tot)\n",
    "    plot.function(lambda n: (bina(n)-poisson(n)),label=\"diff binomial to poisson\",axes=axs[1],tight=False,xmin=0,xmax=N_tot)\n",
    "    \n",
    "    #plot.function(lambda n: N_tot*n**5,axes=axs[1],tight=False,xmin=0,xmax=1)\n",
    "    \n",
    "ipywidgets.interactive(fta,  N_tot=widgets.IntSlider(min=1, max=100, step=1, value=1),  p=widgets.FloatSlider(min=0, max=1, step=0.01, value=0.1)) "
   ]
  },
  {
   "cell_type": "code",
   "execution_count": null,
   "id": "db9d23ad",
   "metadata": {},
   "outputs": [],
   "source": []
  },
  {
   "cell_type": "code",
   "execution_count": null,
   "id": "d63bc003",
   "metadata": {},
   "outputs": [],
   "source": []
  }
 ],
 "metadata": {
  "kernelspec": {
   "display_name": "Python 3",
   "language": "python",
   "name": "python3"
  },
  "language_info": {
   "codemirror_mode": {
    "name": "ipython",
    "version": 3
   },
   "file_extension": ".py",
   "mimetype": "text/x-python",
   "name": "python",
   "nbconvert_exporter": "python",
   "pygments_lexer": "ipython3",
   "version": "3.8.10"
  },
  "widgets": {
   "application/vnd.jupyter.widget-state+json": {
    "state": {
     "0ca47574f929411ca57c0ac88e431d81": {
      "model_module": "@jupyter-widgets/controls",
      "model_module_version": "2.0.0",
      "model_name": "SliderStyleModel",
      "state": {
       "_model_module": "@jupyter-widgets/controls",
       "_model_module_version": "2.0.0",
       "_model_name": "SliderStyleModel",
       "_view_count": null,
       "_view_module": "@jupyter-widgets/base",
       "_view_module_version": "2.0.0",
       "_view_name": "StyleView",
       "description_width": "",
       "handle_color": null
      }
     },
     "113fe2a77c4e4d8d8249a906ba334f84": {
      "model_module": "@jupyter-widgets/controls",
      "model_module_version": "2.0.0",
      "model_name": "IntSliderModel",
      "state": {
       "_dom_classes": [],
       "_model_module": "@jupyter-widgets/controls",
       "_model_module_version": "2.0.0",
       "_model_name": "IntSliderModel",
       "_view_count": null,
       "_view_module": "@jupyter-widgets/controls",
       "_view_module_version": "2.0.0",
       "_view_name": "IntSliderView",
       "behavior": "drag-tap",
       "continuous_update": true,
       "description": "N_tot",
       "description_allow_html": false,
       "disabled": false,
       "layout": "IPY_MODEL_9c54845ba3bc4cb6b1060521afafb846",
       "max": 100,
       "min": 1,
       "orientation": "horizontal",
       "readout": true,
       "readout_format": "d",
       "step": 1,
       "style": "IPY_MODEL_f7383ea2953a40a39abbd887024d5b5f",
       "tabbable": null,
       "tooltip": null,
       "value": 1
      }
     },
     "4156b24594344630bbe486978e1f3f5b": {
      "model_module": "@jupyter-widgets/base",
      "model_module_version": "2.0.0",
      "model_name": "LayoutModel",
      "state": {
       "_model_module": "@jupyter-widgets/base",
       "_model_module_version": "2.0.0",
       "_model_name": "LayoutModel",
       "_view_count": null,
       "_view_module": "@jupyter-widgets/base",
       "_view_module_version": "2.0.0",
       "_view_name": "LayoutView",
       "align_content": null,
       "align_items": null,
       "align_self": null,
       "border_bottom": null,
       "border_left": null,
       "border_right": null,
       "border_top": null,
       "bottom": null,
       "display": null,
       "flex": null,
       "flex_flow": null,
       "grid_area": null,
       "grid_auto_columns": null,
       "grid_auto_flow": null,
       "grid_auto_rows": null,
       "grid_column": null,
       "grid_gap": null,
       "grid_row": null,
       "grid_template_areas": null,
       "grid_template_columns": null,
       "grid_template_rows": null,
       "height": null,
       "justify_content": null,
       "justify_items": null,
       "left": null,
       "margin": null,
       "max_height": null,
       "max_width": null,
       "min_height": null,
       "min_width": null,
       "object_fit": null,
       "object_position": null,
       "order": null,
       "overflow": null,
       "padding": null,
       "right": null,
       "top": null,
       "visibility": null,
       "width": null
      }
     },
     "493606c5306848f9a53836c46b4e44f8": {
      "model_module": "@jupyter-widgets/output",
      "model_module_version": "1.0.0",
      "model_name": "OutputModel",
      "state": {
       "_dom_classes": [],
       "_model_module": "@jupyter-widgets/output",
       "_model_module_version": "1.0.0",
       "_model_name": "OutputModel",
       "_view_count": null,
       "_view_module": "@jupyter-widgets/output",
       "_view_module_version": "1.0.0",
       "_view_name": "OutputView",
       "layout": "IPY_MODEL_4156b24594344630bbe486978e1f3f5b",
       "msg_id": "",
       "outputs": [
        {
         "data": {
          "image/png": "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\n",
          "text/plain": "<Figure size 640x480 with 2 Axes>"
         },
         "metadata": {},
         "output_type": "display_data"
        }
       ],
       "tabbable": null,
       "tooltip": null
      }
     },
     "4f9f3f6894b24e82be44358751680e80": {
      "model_module": "@jupyter-widgets/controls",
      "model_module_version": "2.0.0",
      "model_name": "FloatSliderModel",
      "state": {
       "_dom_classes": [],
       "_model_module": "@jupyter-widgets/controls",
       "_model_module_version": "2.0.0",
       "_model_name": "FloatSliderModel",
       "_view_count": null,
       "_view_module": "@jupyter-widgets/controls",
       "_view_module_version": "2.0.0",
       "_view_name": "FloatSliderView",
       "behavior": "drag-tap",
       "continuous_update": true,
       "description": "p",
       "description_allow_html": false,
       "disabled": false,
       "layout": "IPY_MODEL_d8b50be7b19f487aba4f859b0f748de9",
       "max": 1.0,
       "min": 0.0,
       "orientation": "horizontal",
       "readout": true,
       "readout_format": ".2f",
       "step": 0.01,
       "style": "IPY_MODEL_0ca47574f929411ca57c0ac88e431d81",
       "tabbable": null,
       "tooltip": null,
       "value": 0.1
      }
     },
     "90cb09f9644246d1a5e6ddeb4937365c": {
      "model_module": "@jupyter-widgets/controls",
      "model_module_version": "2.0.0",
      "model_name": "VBoxModel",
      "state": {
       "_dom_classes": [
        "widget-interact"
       ],
       "_model_module": "@jupyter-widgets/controls",
       "_model_module_version": "2.0.0",
       "_model_name": "VBoxModel",
       "_view_count": null,
       "_view_module": "@jupyter-widgets/controls",
       "_view_module_version": "2.0.0",
       "_view_name": "VBoxView",
       "box_style": "",
       "children": [
        "IPY_MODEL_113fe2a77c4e4d8d8249a906ba334f84",
        "IPY_MODEL_4f9f3f6894b24e82be44358751680e80",
        "IPY_MODEL_493606c5306848f9a53836c46b4e44f8"
       ],
       "layout": "IPY_MODEL_d833e96585044d8fa800830c8d5fadb8",
       "tabbable": null,
       "tooltip": null
      }
     },
     "9c54845ba3bc4cb6b1060521afafb846": {
      "model_module": "@jupyter-widgets/base",
      "model_module_version": "2.0.0",
      "model_name": "LayoutModel",
      "state": {
       "_model_module": "@jupyter-widgets/base",
       "_model_module_version": "2.0.0",
       "_model_name": "LayoutModel",
       "_view_count": null,
       "_view_module": "@jupyter-widgets/base",
       "_view_module_version": "2.0.0",
       "_view_name": "LayoutView",
       "align_content": null,
       "align_items": null,
       "align_self": null,
       "border_bottom": null,
       "border_left": null,
       "border_right": null,
       "border_top": null,
       "bottom": null,
       "display": null,
       "flex": null,
       "flex_flow": null,
       "grid_area": null,
       "grid_auto_columns": null,
       "grid_auto_flow": null,
       "grid_auto_rows": null,
       "grid_column": null,
       "grid_gap": null,
       "grid_row": null,
       "grid_template_areas": null,
       "grid_template_columns": null,
       "grid_template_rows": null,
       "height": null,
       "justify_content": null,
       "justify_items": null,
       "left": null,
       "margin": null,
       "max_height": null,
       "max_width": null,
       "min_height": null,
       "min_width": null,
       "object_fit": null,
       "object_position": null,
       "order": null,
       "overflow": null,
       "padding": null,
       "right": null,
       "top": null,
       "visibility": null,
       "width": null
      }
     },
     "d833e96585044d8fa800830c8d5fadb8": {
      "model_module": "@jupyter-widgets/base",
      "model_module_version": "2.0.0",
      "model_name": "LayoutModel",
      "state": {
       "_model_module": "@jupyter-widgets/base",
       "_model_module_version": "2.0.0",
       "_model_name": "LayoutModel",
       "_view_count": null,
       "_view_module": "@jupyter-widgets/base",
       "_view_module_version": "2.0.0",
       "_view_name": "LayoutView",
       "align_content": null,
       "align_items": null,
       "align_self": null,
       "border_bottom": null,
       "border_left": null,
       "border_right": null,
       "border_top": null,
       "bottom": null,
       "display": null,
       "flex": null,
       "flex_flow": null,
       "grid_area": null,
       "grid_auto_columns": null,
       "grid_auto_flow": null,
       "grid_auto_rows": null,
       "grid_column": null,
       "grid_gap": null,
       "grid_row": null,
       "grid_template_areas": null,
       "grid_template_columns": null,
       "grid_template_rows": null,
       "height": null,
       "justify_content": null,
       "justify_items": null,
       "left": null,
       "margin": null,
       "max_height": null,
       "max_width": null,
       "min_height": null,
       "min_width": null,
       "object_fit": null,
       "object_position": null,
       "order": null,
       "overflow": null,
       "padding": null,
       "right": null,
       "top": null,
       "visibility": null,
       "width": null
      }
     },
     "d8b50be7b19f487aba4f859b0f748de9": {
      "model_module": "@jupyter-widgets/base",
      "model_module_version": "2.0.0",
      "model_name": "LayoutModel",
      "state": {
       "_model_module": "@jupyter-widgets/base",
       "_model_module_version": "2.0.0",
       "_model_name": "LayoutModel",
       "_view_count": null,
       "_view_module": "@jupyter-widgets/base",
       "_view_module_version": "2.0.0",
       "_view_name": "LayoutView",
       "align_content": null,
       "align_items": null,
       "align_self": null,
       "border_bottom": null,
       "border_left": null,
       "border_right": null,
       "border_top": null,
       "bottom": null,
       "display": null,
       "flex": null,
       "flex_flow": null,
       "grid_area": null,
       "grid_auto_columns": null,
       "grid_auto_flow": null,
       "grid_auto_rows": null,
       "grid_column": null,
       "grid_gap": null,
       "grid_row": null,
       "grid_template_areas": null,
       "grid_template_columns": null,
       "grid_template_rows": null,
       "height": null,
       "justify_content": null,
       "justify_items": null,
       "left": null,
       "margin": null,
       "max_height": null,
       "max_width": null,
       "min_height": null,
       "min_width": null,
       "object_fit": null,
       "object_position": null,
       "order": null,
       "overflow": null,
       "padding": null,
       "right": null,
       "top": null,
       "visibility": null,
       "width": null
      }
     },
     "f7383ea2953a40a39abbd887024d5b5f": {
      "model_module": "@jupyter-widgets/controls",
      "model_module_version": "2.0.0",
      "model_name": "SliderStyleModel",
      "state": {
       "_model_module": "@jupyter-widgets/controls",
       "_model_module_version": "2.0.0",
       "_model_name": "SliderStyleModel",
       "_view_count": null,
       "_view_module": "@jupyter-widgets/base",
       "_view_module_version": "2.0.0",
       "_view_name": "StyleView",
       "description_width": "",
       "handle_color": null
      }
     }
    },
    "version_major": 2,
    "version_minor": 0
   }
  }
 },
 "nbformat": 4,
 "nbformat_minor": 5
}
