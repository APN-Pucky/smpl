{
 "cells": [
  {
   "cell_type": "markdown",
   "metadata": {},
   "source": [
    "# uncertainties\n",
    "\n",
    "see: https://uncertainties-python-package.readthedocs.io/en/latest/"
   ]
  },
  {
   "cell_type": "code",
   "execution_count": 1,
   "metadata": {
    "execution": {
     "iopub.execute_input": "2022-04-18T20:56:17.057001Z",
     "iopub.status.busy": "2022-04-18T20:56:17.056576Z",
     "iopub.status.idle": "2022-04-18T20:56:17.257326Z",
     "shell.execute_reply": "2022-04-18T20:56:17.256741Z"
    }
   },
   "outputs": [],
   "source": [
    "from uncertainties import ufloat\n",
    "import uncertainties.umath as umath\n",
    "import uncertainties.unumpy as unp\n",
    "import numpy as np\n",
    "from smpl import io"
   ]
  },
  {
   "cell_type": "markdown",
   "metadata": {},
   "source": [
    "## Single number"
   ]
  },
  {
   "cell_type": "code",
   "execution_count": 2,
   "metadata": {
    "execution": {
     "iopub.execute_input": "2022-04-18T20:56:17.260585Z",
     "iopub.status.busy": "2022-04-18T20:56:17.260282Z",
     "iopub.status.idle": "2022-04-18T20:56:17.264648Z",
     "shell.execute_reply": "2022-04-18T20:56:17.264256Z"
    }
   },
   "outputs": [
    {
     "name": "stdout",
     "output_type": "stream",
     "text": [
      "1.00+/-0.10\n"
     ]
    }
   ],
   "source": [
    "x = ufloat(1,0.1)\n",
    "print(x)"
   ]
  },
  {
   "cell_type": "code",
   "execution_count": 3,
   "metadata": {
    "execution": {
     "iopub.execute_input": "2022-04-18T20:56:17.271020Z",
     "iopub.status.busy": "2022-04-18T20:56:17.270748Z",
     "iopub.status.idle": "2022-04-18T20:56:17.274705Z",
     "shell.execute_reply": "2022-04-18T20:56:17.274189Z"
    }
   },
   "outputs": [
    {
     "name": "stdout",
     "output_type": "stream",
     "text": [
      "1.00+/-0.20\n"
     ]
    }
   ],
   "source": [
    "print(x*x)"
   ]
  },
  {
   "cell_type": "markdown",
   "metadata": {},
   "source": [
    "This is error propagation of the function $f(x)=x^2$ yielding $\\Delta f = \\frac{\\partial f(x)}{\\partial x} \\Delta x=2\\Delta x$"
   ]
  },
  {
   "cell_type": "code",
   "execution_count": 4,
   "metadata": {
    "execution": {
     "iopub.execute_input": "2022-04-18T20:56:17.277103Z",
     "iopub.status.busy": "2022-04-18T20:56:17.276720Z",
     "iopub.status.idle": "2022-04-18T20:56:17.279910Z",
     "shell.execute_reply": "2022-04-18T20:56:17.279405Z"
    }
   },
   "outputs": [
    {
     "name": "stdout",
     "output_type": "stream",
     "text": [
      "1.00+/-0.22\n"
     ]
    }
   ],
   "source": [
    "y = ufloat(1,0.2)\n",
    "print(x*y)"
   ]
  },
  {
   "cell_type": "markdown",
   "metadata": {},
   "source": [
    "Here $f(x,y)=x*y$ gives $\\Delta f = \\sqrt{(\\frac{\\partial f(x)}{\\partial x} \\Delta x)^2 +(\\frac{\\partial f(y)}{\\partial y} \\Delta y)^2}$"
   ]
  },
  {
   "cell_type": "code",
   "execution_count": 5,
   "metadata": {
    "execution": {
     "iopub.execute_input": "2022-04-18T20:56:17.282841Z",
     "iopub.status.busy": "2022-04-18T20:56:17.282450Z",
     "iopub.status.idle": "2022-04-18T20:56:17.290901Z",
     "shell.execute_reply": "2022-04-18T20:56:17.290394Z"
    }
   },
   "outputs": [
    {
     "data": {
      "text/plain": [
       "0.9092974268256817+/-0.16645873461885696"
      ]
     },
     "execution_count": 5,
     "metadata": {},
     "output_type": "execute_result"
    }
   ],
   "source": [
    "umath.sin(2*y)"
   ]
  },
  {
   "cell_type": "markdown",
   "metadata": {},
   "source": [
    "## Arrays"
   ]
  },
  {
   "cell_type": "code",
   "execution_count": 6,
   "metadata": {
    "execution": {
     "iopub.execute_input": "2022-04-18T20:56:17.293690Z",
     "iopub.status.busy": "2022-04-18T20:56:17.293355Z",
     "iopub.status.idle": "2022-04-18T20:56:17.297702Z",
     "shell.execute_reply": "2022-04-18T20:56:17.297154Z"
    }
   },
   "outputs": [],
   "source": [
    "data = np.loadtxt(io.find_file('test_linear_data.txt',3))\n",
    "xdata = data[:,0]\n",
    "xerr = data[:,2]\n",
    "ydata = data[:,1]\n",
    "yerr = data[:,3]\n",
    "x = unp.uarray(xdata,xerr)\n",
    "y = unp.uarray(ydata,yerr)"
   ]
  },
  {
   "cell_type": "code",
   "execution_count": 7,
   "metadata": {
    "execution": {
     "iopub.execute_input": "2022-04-18T20:56:17.300007Z",
     "iopub.status.busy": "2022-04-18T20:56:17.299620Z",
     "iopub.status.idle": "2022-04-18T20:56:17.304287Z",
     "shell.execute_reply": "2022-04-18T20:56:17.303835Z"
    }
   },
   "outputs": [
    {
     "name": "stdout",
     "output_type": "stream",
     "text": [
      "[0.0+/-0.1 1.0+/-0.2 2.0+/-0.3 3.0+/-0.1 4.0+/-0.1 5.0+/-0.1]\n",
      "[1.0+/-0.2 2.0+/-0.1 3.0+/-0.1 5.0+/-0.4 5.0+/-0.1 6.0+/-0.2]\n"
     ]
    }
   ],
   "source": [
    "print(x)\n",
    "print(y)"
   ]
  },
  {
   "cell_type": "code",
   "execution_count": 8,
   "metadata": {
    "execution": {
     "iopub.execute_input": "2022-04-18T20:56:17.306541Z",
     "iopub.status.busy": "2022-04-18T20:56:17.306282Z",
     "iopub.status.idle": "2022-04-18T20:56:17.309316Z",
     "shell.execute_reply": "2022-04-18T20:56:17.308932Z"
    }
   },
   "outputs": [
    {
     "name": "stdout",
     "output_type": "stream",
     "text": [
      "[0.0+/-0.1 2.0+/-0.4123105625617661 6.0+/-0.9219544457292886 15.0+/-1.3\n",
      " 20.0+/-0.6403124237432849 30.0+/-1.1661903789690602]\n"
     ]
    }
   ],
   "source": [
    "print(x*y)"
   ]
  },
  {
   "cell_type": "markdown",
   "metadata": {},
   "source": [
    "Error propagation for each number in the array."
   ]
  },
  {
   "cell_type": "code",
   "execution_count": 9,
   "metadata": {
    "execution": {
     "iopub.execute_input": "2022-04-18T20:56:17.311502Z",
     "iopub.status.busy": "2022-04-18T20:56:17.311176Z",
     "iopub.status.idle": "2022-04-18T20:56:17.314256Z",
     "shell.execute_reply": "2022-04-18T20:56:17.313891Z"
    }
   },
   "outputs": [
    {
     "name": "stdout",
     "output_type": "stream",
     "text": [
      "[0.0+/-0.1 1.682941969615793+/-0.2319245292308779\n",
      " 2.727892280477045+/-0.38541218410236494\n",
      " 0.7056000402993361+/-0.49820443885945703\n",
      " -3.7840124765396412+/-0.33546981375820745\n",
      " -5.7535456479788305+/-0.25641481109282205]\n"
     ]
    }
   ],
   "source": [
    "print(unp.sin(x)*y)"
   ]
  },
  {
   "cell_type": "code",
   "execution_count": null,
   "metadata": {},
   "outputs": [],
   "source": []
  }
 ],
 "metadata": {
  "kernelspec": {
   "display_name": "Python 3",
   "language": "python",
   "name": "python3"
  },
  "language_info": {
   "codemirror_mode": {
    "name": "ipython",
    "version": 3
   },
   "file_extension": ".py",
   "mimetype": "text/x-python",
   "name": "python",
   "nbconvert_exporter": "python",
   "pygments_lexer": "ipython3",
   "version": "3.8.10"
  }
 },
 "nbformat": 4,
 "nbformat_minor": 4
}
