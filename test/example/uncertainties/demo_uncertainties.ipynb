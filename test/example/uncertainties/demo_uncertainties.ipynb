{
 "cells": [
  {
   "cell_type": "markdown",
   "metadata": {},
   "source": [
    "# uncertainties\n",
    "\n",
    "see: https://uncertainties-python-package.readthedocs.io/en/latest/"
   ]
  },
  {
   "cell_type": "code",
   "execution_count": 1,
   "metadata": {
    "execution": {
     "iopub.execute_input": "2023-05-26T08:35:03.366930Z",
     "iopub.status.busy": "2023-05-26T08:35:03.366722Z",
     "iopub.status.idle": "2023-05-26T08:35:03.439063Z",
     "shell.execute_reply": "2023-05-26T08:35:03.438517Z"
    }
   },
   "outputs": [],
   "source": [
    "from uncertainties import ufloat\n",
    "import uncertainties.umath as umath\n",
    "import uncertainties.unumpy as unp\n",
    "import numpy as np\n",
    "from smpl import io"
   ]
  },
  {
   "cell_type": "markdown",
   "metadata": {},
   "source": [
    "## Single number"
   ]
  },
  {
   "cell_type": "code",
   "execution_count": 2,
   "metadata": {
    "execution": {
     "iopub.execute_input": "2023-05-26T08:35:03.442774Z",
     "iopub.status.busy": "2023-05-26T08:35:03.441903Z",
     "iopub.status.idle": "2023-05-26T08:35:03.447778Z",
     "shell.execute_reply": "2023-05-26T08:35:03.447296Z"
    }
   },
   "outputs": [
    {
     "name": "stdout",
     "output_type": "stream",
     "text": [
      "1.00+/-0.10\n"
     ]
    }
   ],
   "source": [
    "x = ufloat(1,0.1)\n",
    "print(x)"
   ]
  },
  {
   "cell_type": "code",
   "execution_count": 3,
   "metadata": {
    "execution": {
     "iopub.execute_input": "2023-05-26T08:35:03.450944Z",
     "iopub.status.busy": "2023-05-26T08:35:03.450150Z",
     "iopub.status.idle": "2023-05-26T08:35:03.454896Z",
     "shell.execute_reply": "2023-05-26T08:35:03.454420Z"
    }
   },
   "outputs": [
    {
     "name": "stdout",
     "output_type": "stream",
     "text": [
      "1.00+/-0.20\n"
     ]
    }
   ],
   "source": [
    "print(x*x)"
   ]
  },
  {
   "cell_type": "markdown",
   "metadata": {},
   "source": [
    "This is error propagation of the function $f(x)=x^2$ yielding $\\Delta f = \\frac{\\partial f(x)}{\\partial x} \\Delta x=2\\Delta x$"
   ]
  },
  {
   "cell_type": "code",
   "execution_count": 4,
   "metadata": {
    "execution": {
     "iopub.execute_input": "2023-05-26T08:35:03.457999Z",
     "iopub.status.busy": "2023-05-26T08:35:03.457217Z",
     "iopub.status.idle": "2023-05-26T08:35:03.461916Z",
     "shell.execute_reply": "2023-05-26T08:35:03.461440Z"
    }
   },
   "outputs": [
    {
     "name": "stdout",
     "output_type": "stream",
     "text": [
      "1.00+/-0.22\n"
     ]
    }
   ],
   "source": [
    "y = ufloat(1,0.2)\n",
    "print(x*y)"
   ]
  },
  {
   "cell_type": "markdown",
   "metadata": {},
   "source": [
    "Here $f(x,y)=x*y$ gives $\\Delta f = \\sqrt{(\\frac{\\partial f(x)}{\\partial x} \\Delta x)^2 +(\\frac{\\partial f(y)}{\\partial y} \\Delta y)^2}$"
   ]
  },
  {
   "cell_type": "code",
   "execution_count": 5,
   "metadata": {
    "execution": {
     "iopub.execute_input": "2023-05-26T08:35:03.464966Z",
     "iopub.status.busy": "2023-05-26T08:35:03.464160Z",
     "iopub.status.idle": "2023-05-26T08:35:03.471777Z",
     "shell.execute_reply": "2023-05-26T08:35:03.471305Z"
    }
   },
   "outputs": [
    {
     "data": {
      "text/plain": [
       "0.9092974268256817+/-0.16645873461885696"
      ]
     },
     "execution_count": 5,
     "metadata": {},
     "output_type": "execute_result"
    }
   ],
   "source": [
    "umath.sin(2*y)"
   ]
  },
  {
   "cell_type": "markdown",
   "metadata": {},
   "source": [
    "## Arrays"
   ]
  },
  {
   "cell_type": "code",
   "execution_count": 6,
   "metadata": {
    "execution": {
     "iopub.execute_input": "2023-05-26T08:35:03.474892Z",
     "iopub.status.busy": "2023-05-26T08:35:03.474115Z",
     "iopub.status.idle": "2023-05-26T08:35:03.479027Z",
     "shell.execute_reply": "2023-05-26T08:35:03.478544Z"
    }
   },
   "outputs": [],
   "source": [
    "data = np.loadtxt(io.find_file('test_linear_data.txt',3))\n",
    "xdata = data[:,0]\n",
    "xerr = data[:,2]\n",
    "ydata = data[:,1]\n",
    "yerr = data[:,3]\n",
    "x = unp.uarray(xdata,xerr)\n",
    "y = unp.uarray(ydata,yerr)"
   ]
  },
  {
   "cell_type": "code",
   "execution_count": 7,
   "metadata": {
    "execution": {
     "iopub.execute_input": "2023-05-26T08:35:03.481589Z",
     "iopub.status.busy": "2023-05-26T08:35:03.481067Z",
     "iopub.status.idle": "2023-05-26T08:35:03.485263Z",
     "shell.execute_reply": "2023-05-26T08:35:03.484718Z"
    }
   },
   "outputs": [
    {
     "name": "stdout",
     "output_type": "stream",
     "text": [
      "[0.0+/-0.1 1.0+/-0.2 2.0+/-0.3 3.0+/-0.1 4.0+/-0.1 5.0+/-0.1]\n",
      "[1.0+/-0.2 2.0+/-0.1 3.0+/-0.1 5.0+/-0.4 5.0+/-0.1 6.0+/-0.2]\n"
     ]
    }
   ],
   "source": [
    "print(x)\n",
    "print(y)"
   ]
  },
  {
   "cell_type": "code",
   "execution_count": 8,
   "metadata": {
    "execution": {
     "iopub.execute_input": "2023-05-26T08:35:03.487588Z",
     "iopub.status.busy": "2023-05-26T08:35:03.487381Z",
     "iopub.status.idle": "2023-05-26T08:35:03.491206Z",
     "shell.execute_reply": "2023-05-26T08:35:03.490676Z"
    }
   },
   "outputs": [
    {
     "name": "stdout",
     "output_type": "stream",
     "text": [
      "[0.0+/-0.1 2.0+/-0.4123105625617661 6.0+/-0.9219544457292886 15.0+/-1.3\n",
      " 20.0+/-0.6403124237432849 30.0+/-1.1661903789690602]\n"
     ]
    }
   ],
   "source": [
    "print(x*y)"
   ]
  },
  {
   "cell_type": "markdown",
   "metadata": {},
   "source": [
    "Error propagation for each number in the array."
   ]
  },
  {
   "cell_type": "code",
   "execution_count": 9,
   "metadata": {
    "execution": {
     "iopub.execute_input": "2023-05-26T08:35:03.493600Z",
     "iopub.status.busy": "2023-05-26T08:35:03.493396Z",
     "iopub.status.idle": "2023-05-26T08:35:03.497353Z",
     "shell.execute_reply": "2023-05-26T08:35:03.496822Z"
    }
   },
   "outputs": [
    {
     "name": "stdout",
     "output_type": "stream",
     "text": [
      "[0.0+/-0.1 1.682941969615793+/-0.2319245292308779\n",
      " 2.727892280477045+/-0.38541218410236494\n",
      " 0.7056000402993361+/-0.49820443885945703\n",
      " -3.7840124765396412+/-0.33546981375820745\n",
      " -5.7535456479788305+/-0.25641481109282205]\n"
     ]
    }
   ],
   "source": [
    "print(unp.sin(x)*y)"
   ]
  },
  {
   "cell_type": "code",
   "execution_count": null,
   "metadata": {},
   "outputs": [],
   "source": []
  },
  {
   "cell_type": "code",
   "execution_count": null,
   "metadata": {},
   "outputs": [],
   "source": []
  },
  {
   "cell_type": "code",
   "execution_count": null,
   "metadata": {},
   "outputs": [],
   "source": []
  }
 ],
 "metadata": {
  "kernelspec": {
   "display_name": "Python 3 (ipykernel)",
   "language": "python",
   "name": "python3"
  },
  "language_info": {
   "codemirror_mode": {
    "name": "ipython",
    "version": 3
   },
   "file_extension": ".py",
   "mimetype": "text/x-python",
   "name": "python",
   "nbconvert_exporter": "python",
   "pygments_lexer": "ipython3",
   "version": "3.8.10"
  }
 },
 "nbformat": 4,
 "nbformat_minor": 4
}
