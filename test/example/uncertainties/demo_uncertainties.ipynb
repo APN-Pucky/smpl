{
 "cells": [
  {
   "cell_type": "markdown",
   "metadata": {},
   "source": [
    "# uncertainties\n",
    "\n",
    "see: https://uncertainties-python-package.readthedocs.io/en/latest/"
   ]
  },
  {
   "cell_type": "code",
   "execution_count": 1,
   "metadata": {
    "execution": {
     "iopub.execute_input": "2022-12-05T14:28:26.337426Z",
     "iopub.status.busy": "2022-12-05T14:28:26.336929Z",
     "iopub.status.idle": "2022-12-05T14:28:26.430257Z",
     "shell.execute_reply": "2022-12-05T14:28:26.429438Z"
    }
   },
   "outputs": [],
   "source": [
    "from uncertainties import ufloat\n",
    "import uncertainties.umath as umath\n",
    "import uncertainties.unumpy as unp\n",
    "import numpy as np\n",
    "from smpl import io"
   ]
  },
  {
   "cell_type": "markdown",
   "metadata": {},
   "source": [
    "## Single number"
   ]
  },
  {
   "cell_type": "code",
   "execution_count": 2,
   "metadata": {
    "execution": {
     "iopub.execute_input": "2022-12-05T14:28:26.436362Z",
     "iopub.status.busy": "2022-12-05T14:28:26.435059Z",
     "iopub.status.idle": "2022-12-05T14:28:26.444403Z",
     "shell.execute_reply": "2022-12-05T14:28:26.443597Z"
    }
   },
   "outputs": [
    {
     "name": "stdout",
     "output_type": "stream",
     "text": [
      "1.00+/-0.10\n"
     ]
    }
   ],
   "source": [
    "x = ufloat(1,0.1)\n",
    "print(x)"
   ]
  },
  {
   "cell_type": "code",
   "execution_count": 3,
   "metadata": {
    "execution": {
     "iopub.execute_input": "2022-12-05T14:28:26.449375Z",
     "iopub.status.busy": "2022-12-05T14:28:26.448043Z",
     "iopub.status.idle": "2022-12-05T14:28:26.455291Z",
     "shell.execute_reply": "2022-12-05T14:28:26.454575Z"
    }
   },
   "outputs": [
    {
     "name": "stdout",
     "output_type": "stream",
     "text": [
      "1.00+/-0.20\n"
     ]
    }
   ],
   "source": [
    "print(x*x)"
   ]
  },
  {
   "cell_type": "markdown",
   "metadata": {},
   "source": [
    "This is error propagation of the function $f(x)=x^2$ yielding $\\Delta f = \\frac{\\partial f(x)}{\\partial x} \\Delta x=2\\Delta x$"
   ]
  },
  {
   "cell_type": "code",
   "execution_count": 4,
   "metadata": {
    "execution": {
     "iopub.execute_input": "2022-12-05T14:28:26.460202Z",
     "iopub.status.busy": "2022-12-05T14:28:26.458914Z",
     "iopub.status.idle": "2022-12-05T14:28:26.465780Z",
     "shell.execute_reply": "2022-12-05T14:28:26.465053Z"
    }
   },
   "outputs": [
    {
     "name": "stdout",
     "output_type": "stream",
     "text": [
      "1.00+/-0.22\n"
     ]
    }
   ],
   "source": [
    "y = ufloat(1,0.2)\n",
    "print(x*y)"
   ]
  },
  {
   "cell_type": "markdown",
   "metadata": {},
   "source": [
    "Here $f(x,y)=x*y$ gives $\\Delta f = \\sqrt{(\\frac{\\partial f(x)}{\\partial x} \\Delta x)^2 +(\\frac{\\partial f(y)}{\\partial y} \\Delta y)^2}$"
   ]
  },
  {
   "cell_type": "code",
   "execution_count": 5,
   "metadata": {
    "execution": {
     "iopub.execute_input": "2022-12-05T14:28:26.469696Z",
     "iopub.status.busy": "2022-12-05T14:28:26.469102Z",
     "iopub.status.idle": "2022-12-05T14:28:26.482674Z",
     "shell.execute_reply": "2022-12-05T14:28:26.481527Z"
    }
   },
   "outputs": [
    {
     "data": {
      "text/plain": [
       "0.9092974268256817+/-0.16645873461885696"
      ]
     },
     "execution_count": 5,
     "metadata": {},
     "output_type": "execute_result"
    }
   ],
   "source": [
    "umath.sin(2*y)"
   ]
  },
  {
   "cell_type": "markdown",
   "metadata": {},
   "source": [
    "## Arrays"
   ]
  },
  {
   "cell_type": "code",
   "execution_count": 6,
   "metadata": {
    "execution": {
     "iopub.execute_input": "2022-12-05T14:28:26.486416Z",
     "iopub.status.busy": "2022-12-05T14:28:26.486108Z",
     "iopub.status.idle": "2022-12-05T14:28:26.493089Z",
     "shell.execute_reply": "2022-12-05T14:28:26.492256Z"
    }
   },
   "outputs": [],
   "source": [
    "data = np.loadtxt(io.find_file('test_linear_data.txt',3))\n",
    "xdata = data[:,0]\n",
    "xerr = data[:,2]\n",
    "ydata = data[:,1]\n",
    "yerr = data[:,3]\n",
    "x = unp.uarray(xdata,xerr)\n",
    "y = unp.uarray(ydata,yerr)"
   ]
  },
  {
   "cell_type": "code",
   "execution_count": 7,
   "metadata": {
    "execution": {
     "iopub.execute_input": "2022-12-05T14:28:26.496746Z",
     "iopub.status.busy": "2022-12-05T14:28:26.496492Z",
     "iopub.status.idle": "2022-12-05T14:28:26.501966Z",
     "shell.execute_reply": "2022-12-05T14:28:26.501153Z"
    }
   },
   "outputs": [
    {
     "name": "stdout",
     "output_type": "stream",
     "text": [
      "[0.0+/-0.1 1.0+/-0.2 2.0+/-0.3 3.0+/-0.1 4.0+/-0.1 5.0+/-0.1]\n",
      "[1.0+/-0.2 2.0+/-0.1 3.0+/-0.1 5.0+/-0.4 5.0+/-0.1 6.0+/-0.2]\n"
     ]
    }
   ],
   "source": [
    "print(x)\n",
    "print(y)"
   ]
  },
  {
   "cell_type": "code",
   "execution_count": 8,
   "metadata": {
    "execution": {
     "iopub.execute_input": "2022-12-05T14:28:26.505039Z",
     "iopub.status.busy": "2022-12-05T14:28:26.504777Z",
     "iopub.status.idle": "2022-12-05T14:28:26.509117Z",
     "shell.execute_reply": "2022-12-05T14:28:26.508357Z"
    }
   },
   "outputs": [
    {
     "name": "stdout",
     "output_type": "stream",
     "text": [
      "[0.0+/-0.1 2.0+/-0.4123105625617661 6.0+/-0.9219544457292886 15.0+/-1.3\n",
      " 20.0+/-0.6403124237432849 30.0+/-1.1661903789690602]\n"
     ]
    }
   ],
   "source": [
    "print(x*y)"
   ]
  },
  {
   "cell_type": "markdown",
   "metadata": {},
   "source": [
    "Error propagation for each number in the array."
   ]
  },
  {
   "cell_type": "code",
   "execution_count": 9,
   "metadata": {
    "execution": {
     "iopub.execute_input": "2022-12-05T14:28:26.512748Z",
     "iopub.status.busy": "2022-12-05T14:28:26.511839Z",
     "iopub.status.idle": "2022-12-05T14:28:26.516688Z",
     "shell.execute_reply": "2022-12-05T14:28:26.515981Z"
    }
   },
   "outputs": [
    {
     "name": "stdout",
     "output_type": "stream",
     "text": [
      "[0.0+/-0.1 1.682941969615793+/-0.2319245292308779\n",
      " 2.727892280477045+/-0.38541218410236494\n",
      " 0.7056000402993361+/-0.49820443885945703\n",
      " -3.7840124765396412+/-0.33546981375820745\n",
      " -5.7535456479788305+/-0.25641481109282205]\n"
     ]
    }
   ],
   "source": [
    "print(unp.sin(x)*y)"
   ]
  },
  {
   "cell_type": "code",
   "execution_count": null,
   "metadata": {},
   "outputs": [],
   "source": []
  }
 ],
 "metadata": {
  "kernelspec": {
   "display_name": "Python 3",
   "language": "python",
   "name": "python3"
  },
  "language_info": {
   "codemirror_mode": {
    "name": "ipython",
    "version": 3
   },
   "file_extension": ".py",
   "mimetype": "text/x-python",
   "name": "python",
   "nbconvert_exporter": "python",
   "pygments_lexer": "ipython3",
   "version": "3.8.10"
  }
 },
 "nbformat": 4,
 "nbformat_minor": 4
}
