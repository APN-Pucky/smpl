{
 "cells": [
  {
   "cell_type": "markdown",
   "metadata": {},
   "source": [
    "# Latex"
   ]
  },
  {
   "cell_type": "code",
   "execution_count": 1,
   "metadata": {
    "execution": {
     "iopub.execute_input": "2021-11-23T11:20:16.204561Z",
     "iopub.status.busy": "2021-11-23T11:20:16.203933Z",
     "iopub.status.idle": "2021-11-23T11:20:16.408659Z",
     "shell.execute_reply": "2021-11-23T11:20:16.409076Z"
    }
   },
   "outputs": [],
   "source": [
    "import smpl\n",
    "from smpl import latex\n",
    "from smpl import io\n",
    "from uncertainties import ufloat\n",
    "import uncertainties.unumpy as unp\n",
    "import numpy as np\n"
   ]
  },
  {
   "cell_type": "code",
   "execution_count": 2,
   "metadata": {
    "execution": {
     "iopub.execute_input": "2021-11-23T11:20:16.411988Z",
     "iopub.status.busy": "2021-11-23T11:20:16.411090Z",
     "iopub.status.idle": "2021-11-23T11:20:16.416040Z",
     "shell.execute_reply": "2021-11-23T11:20:16.416608Z"
    }
   },
   "outputs": [
    {
     "name": "stdout",
     "output_type": "stream",
     "text": [
      "\\SI{1.0+-1.0}{\\tesla}\n"
     ]
    }
   ],
   "source": [
    "print(latex.si(ufloat(1,1),\"\\\\tesla\"))"
   ]
  },
  {
   "cell_type": "code",
   "execution_count": 3,
   "metadata": {
    "execution": {
     "iopub.execute_input": "2021-11-23T11:20:16.418752Z",
     "iopub.status.busy": "2021-11-23T11:20:16.418286Z",
     "iopub.status.idle": "2021-11-23T11:20:16.422090Z",
     "shell.execute_reply": "2021-11-23T11:20:16.422527Z"
    }
   },
   "outputs": [],
   "source": [
    "data = np.loadtxt(io.find_file('test_linear_data.txt',3))\n",
    "xdata = data[:,0]\n",
    "xerr = data[:,2]\n",
    "ydata = data[:,1]\n",
    "yerr = data[:,3]\n",
    "x = unp.uarray(xdata,xerr)\n",
    "y = unp.uarray(ydata,yerr)"
   ]
  },
  {
   "cell_type": "code",
   "execution_count": 4,
   "metadata": {
    "execution": {
     "iopub.execute_input": "2021-11-23T11:20:16.424767Z",
     "iopub.status.busy": "2021-11-23T11:20:16.424193Z",
     "iopub.status.idle": "2021-11-23T11:20:16.428153Z",
     "shell.execute_reply": "2021-11-23T11:20:16.428600Z"
    }
   },
   "outputs": [
    {
     "name": "stdout",
     "output_type": "stream",
     "text": [
      "\\SI{0.00+-0.10}{}&\\SI{1.00+-0.20}{}&\\SI{2.00+-0.30}{}&\\SI{3.00+-0.10}{}&\\SI{4.00+-0.10}{}&\\SI{5.00+-0.10}{}\\\\\n",
      "\n"
     ]
    }
   ],
   "source": [
    "print(latex.si_line(x))"
   ]
  },
  {
   "cell_type": "code",
   "execution_count": 5,
   "metadata": {
    "execution": {
     "iopub.execute_input": "2021-11-23T11:20:16.430617Z",
     "iopub.status.busy": "2021-11-23T11:20:16.430170Z",
     "iopub.status.idle": "2021-11-23T11:20:16.433364Z",
     "shell.execute_reply": "2021-11-23T11:20:16.433800Z"
    }
   },
   "outputs": [
    {
     "name": "stdout",
     "output_type": "stream",
     "text": [
      "\\SI{0.00+-0.10}{}&\\SI{1.00+-0.20}{}&\\SI{2.00+-0.30}{}&\\SI{3.00+-0.10}{}&\\SI{4.00+-0.10}{}&\\SI{5.00+-0.10}{}\\\\\n",
      "\\SI{1.00+-0.20}{}&\\SI{2.00+-0.10}{}&\\SI{3.00+-0.10}{}&\\SI{5.0+-0.4}{}&\\SI{5.00+-0.10}{}&\\SI{6.00+-0.20}{}\\\\\n",
      "\n"
     ]
    }
   ],
   "source": [
    "print(latex.si_tab([x,y]))"
   ]
  },
  {
   "cell_type": "code",
   "execution_count": 6,
   "metadata": {
    "execution": {
     "iopub.execute_input": "2021-11-23T11:20:16.437720Z",
     "iopub.status.busy": "2021-11-23T11:20:16.437225Z",
     "iopub.status.idle": "2021-11-23T11:20:16.441151Z",
     "shell.execute_reply": "2021-11-23T11:20:16.441610Z"
    }
   },
   "outputs": [
    {
     "name": "stdout",
     "output_type": "stream",
     "text": [
      "\\SI{0.00+-0.10}{}&\\SI{1.00+-0.20}{}\\\\\n",
      "\\SI{1.00+-0.20}{}&\\SI{2.00+-0.10}{}\\\\\n",
      "\\SI{2.00+-0.30}{}&\\SI{3.00+-0.10}{}\\\\\n",
      "\\SI{3.00+-0.10}{}&\\SI{5.0+-0.4}{}\\\\\n",
      "\\SI{4.00+-0.10}{}&\\SI{5.00+-0.10}{}\\\\\n",
      "\\SI{5.00+-0.10}{}&\\SI{6.00+-0.20}{}\\\\\n",
      "\n"
     ]
    }
   ],
   "source": [
    "print(latex.si_ttab([x,y]))"
   ]
  },
  {
   "cell_type": "code",
   "execution_count": 7,
   "metadata": {
    "execution": {
     "iopub.execute_input": "2021-11-23T11:20:16.445458Z",
     "iopub.status.busy": "2021-11-23T11:20:16.445008Z",
     "iopub.status.idle": "2021-11-23T11:20:18.141208Z",
     "shell.execute_reply": "2021-11-23T11:20:18.141700Z"
    }
   },
   "outputs": [
    {
     "name": "stdout",
     "output_type": "stream",
     "text": [
      "\n",
      "    Set default plot_kwargs if not set.\n",
      "    \t==================  ==================  ==================\n",
      "\tplot_kwargs         default             description\n",
      "\t\n",
      "\t==================  ==================  ==================\n",
      "\txlabel                                  X axis label\n",
      "\tylabel                                  Y axis label\n",
      "\tlabel               None                Legend name of plotted ``data``\n",
      "\tfmt                 .                   Format for plotting fit function\n",
      "\tunits               None                Units of the fit parameters as strings. Displayed in the Legend\n",
      "\tsave                None                 File to save the plot\n",
      "\tlpos                0                   Legend position\n",
      "\tprange              None                Limit the plot of the fit to given range\n",
      "\tsigmas              0                   Color the array of given ``sigma`` times uncertainty. Only works if the fit function is coded with ``unp``\n",
      "\tdata_sigmas         1                   Color the array of given ``sigma`` times uncertainty. Only works if the data has uncertainties\n",
      "\tinit                False               Initialize a new plot\n",
      "\tss                  True                save, add legends and grid to the plot\n",
      "\talso_data           True                 also plot the data\n",
      "\talso_fit            True                also plot the fit\n",
      "\tlogy                False               logarithmic x axis\n",
      "\tlogx                False               logarithmic y axis\n",
      "\tdata_color          None                Color of the data plot\n",
      "\tfit_color           None                Color of the fit plot\n",
      "\tresidue             False               Display difference between fit and data in a second plot\n",
      "\tresidue_err         True                Differences between fit and data will have errorbars\n",
      "\tshow                False               Call plt.show()\n",
      "\tsize                None                Size of the plot as a tuple (x,y). Only has an effect if ``init`` is True\n",
      "\tnumber_format       {0:.4g}             Format to display numbers.\n",
      "\tinterpolate         True                Enable interpolation of whole data if fit range is limited by ``frange`` or ``selector``.\n",
      "\tinterpolate_min     None                Lower interpolation bound\n",
      "\tinterpolate_max     None                Higher interpolation bound\n",
      "\tinterpolate_hatch   ||                  Interpolation shape/hatch for filled area in case of ``sigmas``>0. See https://matplotlib.org/stable/gallery/shapes_and_collections/hatch_style_reference.html\n",
      "\tbbox_to_anchor      None                Position in a tuple (x,y),Shift position of the legend out of the main pane. \n",
      "\tncol                None                Columns in the legend if used with ``bbox_to_anchor``.\n",
      "\tsteps               1000                resolution of the plotted function\n",
      "\tfitinline           False               No newlines for each fit parameter\n",
      "\tgrid                True                Enable grid for the plot\n",
      "\thist                False               Enable histogram plot\n",
      "\tstairs              False               Enable stair plot\n",
      "\t==================  ==================  ==================\n",
      "\t\n",
      "    Set default fit_kwargs if not set.\n",
      "    \t==================  ==================  ==================\n",
      "\tfit_kwargs          default             description\n",
      "\t\n",
      "\t==================  ==================  ==================\n",
      "\tparams              None                Initial fit parameters\n",
      "\tfrange              None                Limit the fit to given range. First integer is the lowest and second the highest index.\n",
      "\tselector            None                Function that takes ``x`` and ``y`` as parameters and returns an array mask in order to limit the data points for fitting. Alternatively a mask for selecting elements from datax and datay.\n",
      "\tfixed_params        True                Enable fixing parameters by choosing the same-named variables from ``kwargs``.\n",
      "\tsortbyx             True                Enable sorting the x and y data so that x is sorted.\n",
      "\tmaxfev              10000               Maximum function evaluations during fitting.\n",
      "\tepsfcn              0.0001              Suitable step length for jacobian approximation.\n",
      "\txvar                None                Variable in fit function parameters that corresponds to the x axis. If it is None the last of the alphabetical sorted parameters is used.\n",
      "\tbins                0                   Number of bins for histogram\n",
      "\tbinunc              poisson_dist        Number of bins for histogram\n",
      "\tautotqdm            True                Auto fitting display tqdm\n",
      "\t==================  ==================  ==================\n",
      "\t\n"
     ]
    },
    {
     "data": {
      "text/plain": [
       "'poisson_dist'"
      ]
     },
     "execution_count": 7,
     "metadata": {},
     "output_type": "execute_result"
    }
   ],
   "source": [
    "from smpl import functions as f\n",
    "from smpl import stat\n",
    "from smpl import plot\n",
    "print(plot.plot_kwargs.__doc__)\n",
    "str(stat.poisson_dist.__qualname__)"
   ]
  },
  {
   "cell_type": "code",
   "execution_count": null,
   "metadata": {},
   "outputs": [],
   "source": []
  }
 ],
 "metadata": {
  "kernelspec": {
   "display_name": "Python 3",
   "language": "python",
   "name": "python3"
  },
  "language_info": {
   "codemirror_mode": {
    "name": "ipython",
    "version": 3
   },
   "file_extension": ".py",
   "mimetype": "text/x-python",
   "name": "python",
   "nbconvert_exporter": "python",
   "pygments_lexer": "ipython3",
   "version": "3.8.10"
  }
 },
 "nbformat": 4,
 "nbformat_minor": 4
}
