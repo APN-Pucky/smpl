{
 "cells": [
  {
   "cell_type": "markdown",
   "metadata": {},
   "source": [
    "# Latex"
   ]
  },
  {
   "cell_type": "code",
   "execution_count": 1,
   "metadata": {
    "execution": {
     "iopub.execute_input": "2025-05-23T13:40:39.571597Z",
     "iopub.status.busy": "2025-05-23T13:40:39.571426Z",
     "iopub.status.idle": "2025-05-23T13:40:39.859077Z",
     "shell.execute_reply": "2025-05-23T13:40:39.858548Z"
    }
   },
   "outputs": [],
   "source": [
    "import smpl\n",
    "from smpl import latex\n",
    "from smpl import io\n",
    "from uncertainties import ufloat\n",
    "import uncertainties.unumpy as unp\n",
    "import numpy as np\n"
   ]
  },
  {
   "cell_type": "code",
   "execution_count": 2,
   "metadata": {
    "execution": {
     "iopub.execute_input": "2025-05-23T13:40:39.861637Z",
     "iopub.status.busy": "2025-05-23T13:40:39.861374Z",
     "iopub.status.idle": "2025-05-23T13:40:39.865475Z",
     "shell.execute_reply": "2025-05-23T13:40:39.864916Z"
    }
   },
   "outputs": [
    {
     "name": "stdout",
     "output_type": "stream",
     "text": [
      "\\SI{1.0+-1.0}{\\tesla}\n"
     ]
    }
   ],
   "source": [
    "print(latex.si(ufloat(1,1),\"\\\\tesla\"))"
   ]
  },
  {
   "cell_type": "code",
   "execution_count": 3,
   "metadata": {
    "execution": {
     "iopub.execute_input": "2025-05-23T13:40:39.867594Z",
     "iopub.status.busy": "2025-05-23T13:40:39.867242Z",
     "iopub.status.idle": "2025-05-23T13:40:39.871007Z",
     "shell.execute_reply": "2025-05-23T13:40:39.870570Z"
    }
   },
   "outputs": [],
   "source": [
    "data = np.loadtxt(io.find_file('test_linear_data.txt',3))\n",
    "xdata = data[:,0]\n",
    "xerr = data[:,2]\n",
    "ydata = data[:,1]\n",
    "yerr = data[:,3]\n",
    "x = unp.uarray(xdata,xerr)\n",
    "y = unp.uarray(ydata,yerr)"
   ]
  },
  {
   "cell_type": "code",
   "execution_count": 4,
   "metadata": {
    "execution": {
     "iopub.execute_input": "2025-05-23T13:40:39.873056Z",
     "iopub.status.busy": "2025-05-23T13:40:39.872726Z",
     "iopub.status.idle": "2025-05-23T13:40:39.875894Z",
     "shell.execute_reply": "2025-05-23T13:40:39.875380Z"
    }
   },
   "outputs": [
    {
     "name": "stdout",
     "output_type": "stream",
     "text": [
      "\\SI{0.00+-0.10}{}&\\SI{1.00+-0.20}{}&\\SI{2.00+-0.30}{}&\\SI{3.00+-0.10}{}&\\SI{4.00+-0.10}{}&\\SI{5.00+-0.10}{}\\\\\n",
      "\n"
     ]
    }
   ],
   "source": [
    "print(latex.si_line(x))"
   ]
  },
  {
   "cell_type": "code",
   "execution_count": 5,
   "metadata": {
    "execution": {
     "iopub.execute_input": "2025-05-23T13:40:39.877701Z",
     "iopub.status.busy": "2025-05-23T13:40:39.877547Z",
     "iopub.status.idle": "2025-05-23T13:40:39.880801Z",
     "shell.execute_reply": "2025-05-23T13:40:39.880304Z"
    }
   },
   "outputs": [
    {
     "name": "stdout",
     "output_type": "stream",
     "text": [
      "\\SI{0.00+-0.10}{}&\\SI{1.00+-0.20}{}&\\SI{2.00+-0.30}{}&\\SI{3.00+-0.10}{}&\\SI{4.00+-0.10}{}&\\SI{5.00+-0.10}{}\\\\\n",
      "\\SI{1.00+-0.20}{}&\\SI{2.00+-0.10}{}&\\SI{3.00+-0.10}{}&\\SI{5.0+-0.4}{}&\\SI{5.00+-0.10}{}&\\SI{6.00+-0.20}{}\\\\\n",
      "\n"
     ]
    }
   ],
   "source": [
    "print(latex.si_tab([x,y]))"
   ]
  },
  {
   "cell_type": "code",
   "execution_count": 6,
   "metadata": {
    "execution": {
     "iopub.execute_input": "2025-05-23T13:40:39.882644Z",
     "iopub.status.busy": "2025-05-23T13:40:39.882492Z",
     "iopub.status.idle": "2025-05-23T13:40:39.885837Z",
     "shell.execute_reply": "2025-05-23T13:40:39.885339Z"
    }
   },
   "outputs": [
    {
     "name": "stdout",
     "output_type": "stream",
     "text": [
      "\\SI{0.00+-0.10}{}&\\SI{1.00+-0.20}{}\\\\\n",
      "\\SI{1.00+-0.20}{}&\\SI{2.00+-0.10}{}\\\\\n",
      "\\SI{2.00+-0.30}{}&\\SI{3.00+-0.10}{}\\\\\n",
      "\\SI{3.00+-0.10}{}&\\SI{5.0+-0.4}{}\\\\\n",
      "\\SI{4.00+-0.10}{}&\\SI{5.00+-0.10}{}\\\\\n",
      "\\SI{5.00+-0.10}{}&\\SI{6.00+-0.20}{}\\\\\n",
      "\n"
     ]
    }
   ],
   "source": [
    "print(latex.si_ttab([x,y]))"
   ]
  },
  {
   "cell_type": "code",
   "execution_count": null,
   "metadata": {},
   "outputs": [],
   "source": []
  },
  {
   "cell_type": "code",
   "execution_count": null,
   "metadata": {},
   "outputs": [],
   "source": []
  }
 ],
 "metadata": {
  "kernelspec": {
   "display_name": "Python 3",
   "language": "python",
   "name": "python3"
  },
  "language_info": {
   "codemirror_mode": {
    "name": "ipython",
    "version": 3
   },
   "file_extension": ".py",
   "mimetype": "text/x-python",
   "name": "python",
   "nbconvert_exporter": "python",
   "pygments_lexer": "ipython3",
   "version": "3.10.12"
  }
 },
 "nbformat": 4,
 "nbformat_minor": 4
}
