{
 "cells": [
  {
   "cell_type": "markdown",
   "metadata": {},
   "source": [
    "# Latex"
   ]
  },
  {
   "cell_type": "code",
   "execution_count": 1,
   "metadata": {
    "execution": {
     "iopub.execute_input": "2022-04-14T09:15:36.329370Z",
     "iopub.status.busy": "2022-04-14T09:15:36.329188Z",
     "iopub.status.idle": "2022-04-14T09:15:36.493201Z",
     "shell.execute_reply": "2022-04-14T09:15:36.492797Z"
    }
   },
   "outputs": [],
   "source": [
    "import smpl\n",
    "from smpl import latex\n",
    "from smpl import io\n",
    "from uncertainties import ufloat\n",
    "import uncertainties.unumpy as unp\n",
    "import numpy as np\n"
   ]
  },
  {
   "cell_type": "code",
   "execution_count": 2,
   "metadata": {
    "execution": {
     "iopub.execute_input": "2022-04-14T09:15:36.495829Z",
     "iopub.status.busy": "2022-04-14T09:15:36.495531Z",
     "iopub.status.idle": "2022-04-14T09:15:36.499243Z",
     "shell.execute_reply": "2022-04-14T09:15:36.498880Z"
    }
   },
   "outputs": [
    {
     "name": "stdout",
     "output_type": "stream",
     "text": [
      "\\SI{1.0+-1.0}{\\tesla}\n"
     ]
    }
   ],
   "source": [
    "print(latex.si(ufloat(1,1),\"\\\\tesla\"))"
   ]
  },
  {
   "cell_type": "code",
   "execution_count": 3,
   "metadata": {
    "execution": {
     "iopub.execute_input": "2022-04-14T09:15:36.501375Z",
     "iopub.status.busy": "2022-04-14T09:15:36.501093Z",
     "iopub.status.idle": "2022-04-14T09:15:36.505493Z",
     "shell.execute_reply": "2022-04-14T09:15:36.505123Z"
    }
   },
   "outputs": [],
   "source": [
    "data = np.loadtxt(io.find_file('test_linear_data.txt',3))\n",
    "xdata = data[:,0]\n",
    "xerr = data[:,2]\n",
    "ydata = data[:,1]\n",
    "yerr = data[:,3]\n",
    "x = unp.uarray(xdata,xerr)\n",
    "y = unp.uarray(ydata,yerr)"
   ]
  },
  {
   "cell_type": "code",
   "execution_count": 4,
   "metadata": {
    "execution": {
     "iopub.execute_input": "2022-04-14T09:15:36.507563Z",
     "iopub.status.busy": "2022-04-14T09:15:36.507283Z",
     "iopub.status.idle": "2022-04-14T09:15:36.510203Z",
     "shell.execute_reply": "2022-04-14T09:15:36.509859Z"
    }
   },
   "outputs": [
    {
     "name": "stdout",
     "output_type": "stream",
     "text": [
      "\\SI{0.00+-0.10}{}&\\SI{1.00+-0.20}{}&\\SI{2.00+-0.30}{}&\\SI{3.00+-0.10}{}&\\SI{4.00+-0.10}{}&\\SI{5.00+-0.10}{}\\\\\n",
      "\n"
     ]
    }
   ],
   "source": [
    "print(latex.si_line(x))"
   ]
  },
  {
   "cell_type": "code",
   "execution_count": 5,
   "metadata": {
    "execution": {
     "iopub.execute_input": "2022-04-14T09:15:36.512372Z",
     "iopub.status.busy": "2022-04-14T09:15:36.512075Z",
     "iopub.status.idle": "2022-04-14T09:15:36.515034Z",
     "shell.execute_reply": "2022-04-14T09:15:36.514697Z"
    }
   },
   "outputs": [
    {
     "name": "stdout",
     "output_type": "stream",
     "text": [
      "\\SI{0.00+-0.10}{}&\\SI{1.00+-0.20}{}&\\SI{2.00+-0.30}{}&\\SI{3.00+-0.10}{}&\\SI{4.00+-0.10}{}&\\SI{5.00+-0.10}{}\\\\\n",
      "\\SI{1.00+-0.20}{}&\\SI{2.00+-0.10}{}&\\SI{3.00+-0.10}{}&\\SI{5.0+-0.4}{}&\\SI{5.00+-0.10}{}&\\SI{6.00+-0.20}{}\\\\\n",
      "\n"
     ]
    }
   ],
   "source": [
    "print(latex.si_tab([x,y]))"
   ]
  },
  {
   "cell_type": "code",
   "execution_count": 6,
   "metadata": {
    "execution": {
     "iopub.execute_input": "2022-04-14T09:15:36.517180Z",
     "iopub.status.busy": "2022-04-14T09:15:36.516779Z",
     "iopub.status.idle": "2022-04-14T09:15:36.519999Z",
     "shell.execute_reply": "2022-04-14T09:15:36.519624Z"
    }
   },
   "outputs": [
    {
     "name": "stdout",
     "output_type": "stream",
     "text": [
      "\\SI{0.00+-0.10}{}&\\SI{1.00+-0.20}{}\\\\\n",
      "\\SI{1.00+-0.20}{}&\\SI{2.00+-0.10}{}\\\\\n",
      "\\SI{2.00+-0.30}{}&\\SI{3.00+-0.10}{}\\\\\n",
      "\\SI{3.00+-0.10}{}&\\SI{5.0+-0.4}{}\\\\\n",
      "\\SI{4.00+-0.10}{}&\\SI{5.00+-0.10}{}\\\\\n",
      "\\SI{5.00+-0.10}{}&\\SI{6.00+-0.20}{}\\\\\n",
      "\n"
     ]
    }
   ],
   "source": [
    "print(latex.si_ttab([x,y]))"
   ]
  },
  {
   "cell_type": "code",
   "execution_count": null,
   "metadata": {},
   "outputs": [],
   "source": []
  },
  {
   "cell_type": "code",
   "execution_count": null,
   "metadata": {},
   "outputs": [],
   "source": []
  }
 ],
 "metadata": {
  "kernelspec": {
   "display_name": "Python 3",
   "language": "python",
   "name": "python3"
  },
  "language_info": {
   "codemirror_mode": {
    "name": "ipython",
    "version": 3
   },
   "file_extension": ".py",
   "mimetype": "text/x-python",
   "name": "python",
   "nbconvert_exporter": "python",
   "pygments_lexer": "ipython3",
   "version": "3.8.10"
  }
 },
 "nbformat": 4,
 "nbformat_minor": 4
}
