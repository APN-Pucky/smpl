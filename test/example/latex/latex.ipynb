{
 "cells": [
  {
   "cell_type": "markdown",
   "metadata": {},
   "source": [
    "# Latex"
   ]
  },
  {
   "cell_type": "code",
   "execution_count": 1,
   "metadata": {
    "execution": {
     "iopub.execute_input": "2021-11-16T13:54:55.679275Z",
     "iopub.status.busy": "2021-11-16T13:54:55.678774Z",
     "iopub.status.idle": "2021-11-16T13:54:55.881756Z",
     "shell.execute_reply": "2021-11-16T13:54:55.882161Z"
    }
   },
   "outputs": [],
   "source": [
    "import smpl\n",
    "from smpl import latex\n",
    "from uncertainties import ufloat\n",
    "import uncertainties.unumpy as unp\n",
    "import numpy as np\n"
   ]
  },
  {
   "cell_type": "code",
   "execution_count": 2,
   "metadata": {
    "execution": {
     "iopub.execute_input": "2021-11-16T13:54:55.884827Z",
     "iopub.status.busy": "2021-11-16T13:54:55.884326Z",
     "iopub.status.idle": "2021-11-16T13:54:55.888916Z",
     "shell.execute_reply": "2021-11-16T13:54:55.889313Z"
    }
   },
   "outputs": [
    {
     "name": "stdout",
     "output_type": "stream",
     "text": [
      "\\SI{1.0+-1.0}{\\tesla}\n"
     ]
    }
   ],
   "source": [
    "print(latex.si(ufloat(1,1),\"\\\\tesla\"))"
   ]
  },
  {
   "cell_type": "code",
   "execution_count": 3,
   "metadata": {
    "execution": {
     "iopub.execute_input": "2021-11-16T13:54:55.894578Z",
     "iopub.status.busy": "2021-11-16T13:54:55.894097Z",
     "iopub.status.idle": "2021-11-16T13:54:55.896205Z",
     "shell.execute_reply": "2021-11-16T13:54:55.895786Z"
    }
   },
   "outputs": [],
   "source": [
    "data = np.loadtxt('test_linear_data.txt')\n",
    "xdata = data[:,0]\n",
    "xerr = data[:,2]\n",
    "ydata = data[:,1]\n",
    "yerr = data[:,3]\n",
    "x = unp.uarray(xdata,xerr)\n",
    "y = unp.uarray(ydata,yerr)"
   ]
  },
  {
   "cell_type": "code",
   "execution_count": 4,
   "metadata": {
    "execution": {
     "iopub.execute_input": "2021-11-16T13:54:55.899755Z",
     "iopub.status.busy": "2021-11-16T13:54:55.899270Z",
     "iopub.status.idle": "2021-11-16T13:54:55.901409Z",
     "shell.execute_reply": "2021-11-16T13:54:55.901796Z"
    }
   },
   "outputs": [
    {
     "name": "stdout",
     "output_type": "stream",
     "text": [
      "\\SI{0.00+-0.10}{}&\\SI{1.00+-0.20}{}&\\SI{2.00+-0.30}{}&\\SI{3.00+-0.10}{}&\\SI{4.00+-0.10}{}&\\SI{5.00+-0.10}{}\\\\\n",
      "\n"
     ]
    }
   ],
   "source": [
    "print(latex.si_line(x))"
   ]
  },
  {
   "cell_type": "code",
   "execution_count": 5,
   "metadata": {
    "execution": {
     "iopub.execute_input": "2021-11-16T13:54:55.905579Z",
     "iopub.status.busy": "2021-11-16T13:54:55.905104Z",
     "iopub.status.idle": "2021-11-16T13:54:55.907000Z",
     "shell.execute_reply": "2021-11-16T13:54:55.907380Z"
    }
   },
   "outputs": [
    {
     "name": "stdout",
     "output_type": "stream",
     "text": [
      "\\SI{0.00+-0.10}{}&\\SI{1.00+-0.20}{}&\\SI{2.00+-0.30}{}&\\SI{3.00+-0.10}{}&\\SI{4.00+-0.10}{}&\\SI{5.00+-0.10}{}\\\\\n",
      "\\SI{1.00+-0.20}{}&\\SI{2.00+-0.10}{}&\\SI{3.00+-0.10}{}&\\SI{5.0+-0.4}{}&\\SI{5.00+-0.10}{}&\\SI{6.00+-0.20}{}\\\\\n",
      "\n"
     ]
    }
   ],
   "source": [
    "print(latex.si_tab([x,y]))"
   ]
  },
  {
   "cell_type": "code",
   "execution_count": 6,
   "metadata": {
    "execution": {
     "iopub.execute_input": "2021-11-16T13:54:55.911172Z",
     "iopub.status.busy": "2021-11-16T13:54:55.910695Z",
     "iopub.status.idle": "2021-11-16T13:54:55.912566Z",
     "shell.execute_reply": "2021-11-16T13:54:55.912981Z"
    }
   },
   "outputs": [
    {
     "name": "stdout",
     "output_type": "stream",
     "text": [
      "\\SI{0.00+-0.10}{}&\\SI{1.00+-0.20}{}\\\\\n",
      "\\SI{1.00+-0.20}{}&\\SI{2.00+-0.10}{}\\\\\n",
      "\\SI{2.00+-0.30}{}&\\SI{3.00+-0.10}{}\\\\\n",
      "\\SI{3.00+-0.10}{}&\\SI{5.0+-0.4}{}\\\\\n",
      "\\SI{4.00+-0.10}{}&\\SI{5.00+-0.10}{}\\\\\n",
      "\\SI{5.00+-0.10}{}&\\SI{6.00+-0.20}{}\\\\\n",
      "\n"
     ]
    }
   ],
   "source": [
    "print(latex.si_ttab([x,y]))"
   ]
  },
  {
   "cell_type": "code",
   "execution_count": null,
   "metadata": {},
   "outputs": [],
   "source": []
  }
 ],
 "metadata": {
  "kernelspec": {
   "display_name": "Python 3",
   "language": "python",
   "name": "python3"
  },
  "language_info": {
   "codemirror_mode": {
    "name": "ipython",
    "version": 3
   },
   "file_extension": ".py",
   "mimetype": "text/x-python",
   "name": "python",
   "nbconvert_exporter": "python",
   "pygments_lexer": "ipython3",
   "version": "3.7.12"
  }
 },
 "nbformat": 4,
 "nbformat_minor": 4
}
