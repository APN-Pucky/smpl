{
 "cells": [
  {
   "cell_type": "markdown",
   "metadata": {},
   "source": [
    "# Parallel"
   ]
  },
  {
   "cell_type": "code",
   "execution_count": 1,
   "metadata": {
    "execution": {
     "iopub.execute_input": "2022-08-14T00:12:53.463819Z",
     "iopub.status.busy": "2022-08-14T00:12:53.463470Z",
     "iopub.status.idle": "2022-08-14T00:12:55.913029Z",
     "shell.execute_reply": "2022-08-14T00:12:55.912007Z"
    }
   },
   "outputs": [],
   "source": [
    "import smpl\n",
    "from smpl import plot\n",
    "from smpl import functions as f\n",
    "import time\n",
    "from smpl.parallel import *\n"
   ]
  },
  {
   "cell_type": "code",
   "execution_count": 2,
   "metadata": {
    "execution": {
     "iopub.execute_input": "2022-08-14T00:12:55.917340Z",
     "iopub.status.busy": "2022-08-14T00:12:55.916949Z",
     "iopub.status.idle": "2022-08-14T00:12:55.922757Z",
     "shell.execute_reply": "2022-08-14T00:12:55.921905Z"
    }
   },
   "outputs": [],
   "source": [
    "# our heavy duty test function we aim to parallelize\n",
    "def long_calc(x):\n",
    "    for i in range(1000000):\n",
    "        i = i+x\n",
    "        i = i*x\n",
    "        i = i/x\n",
    "        i = i-x\n",
    "    return x*x"
   ]
  },
  {
   "cell_type": "markdown",
   "metadata": {},
   "source": [
    "### Non-parallelized"
   ]
  },
  {
   "cell_type": "code",
   "execution_count": 3,
   "metadata": {
    "execution": {
     "iopub.execute_input": "2022-08-14T00:12:55.926284Z",
     "iopub.status.busy": "2022-08-14T00:12:55.926017Z",
     "iopub.status.idle": "2022-08-14T00:12:58.635527Z",
     "shell.execute_reply": "2022-08-14T00:12:58.634541Z"
    }
   },
   "outputs": [
    {
     "name": "stdout",
     "output_type": "stream",
     "text": [
      "[1, 4, 9, 16, 25, 36, 49, 64, 81, 100, 121, 144, 169, 196, 225, 256, 289, 324, 361]\n",
      "\n",
      "Took 2.7018 seconds\n"
     ]
    }
   ],
   "source": [
    "tic = time.perf_counter()\n",
    "print([long_calc(x) for x in range(1,20)])\n",
    "toc = time.perf_counter()\n",
    "print(f\"\\nTook {toc - tic:0.4f} seconds\")"
   ]
  },
  {
   "cell_type": "code",
   "execution_count": 4,
   "metadata": {
    "execution": {
     "iopub.execute_input": "2022-08-14T00:12:58.639465Z",
     "iopub.status.busy": "2022-08-14T00:12:58.639045Z",
     "iopub.status.idle": "2022-08-14T00:13:01.411653Z",
     "shell.execute_reply": "2022-08-14T00:13:01.410692Z"
    }
   },
   "outputs": [
    {
     "name": "stdout",
     "output_type": "stream",
     "text": [
      "1\n"
     ]
    },
    {
     "name": "stdout",
     "output_type": "stream",
     "text": [
      "4\n"
     ]
    },
    {
     "name": "stdout",
     "output_type": "stream",
     "text": [
      "9\n"
     ]
    },
    {
     "name": "stdout",
     "output_type": "stream",
     "text": [
      "16\n"
     ]
    },
    {
     "name": "stdout",
     "output_type": "stream",
     "text": [
      "25\n"
     ]
    },
    {
     "name": "stdout",
     "output_type": "stream",
     "text": [
      "36\n"
     ]
    },
    {
     "name": "stdout",
     "output_type": "stream",
     "text": [
      "49\n"
     ]
    },
    {
     "name": "stdout",
     "output_type": "stream",
     "text": [
      "64\n"
     ]
    },
    {
     "name": "stdout",
     "output_type": "stream",
     "text": [
      "81\n"
     ]
    },
    {
     "name": "stdout",
     "output_type": "stream",
     "text": [
      "100\n"
     ]
    },
    {
     "name": "stdout",
     "output_type": "stream",
     "text": [
      "121\n"
     ]
    },
    {
     "name": "stdout",
     "output_type": "stream",
     "text": [
      "144\n"
     ]
    },
    {
     "name": "stdout",
     "output_type": "stream",
     "text": [
      "169\n"
     ]
    },
    {
     "name": "stdout",
     "output_type": "stream",
     "text": [
      "196\n"
     ]
    },
    {
     "name": "stdout",
     "output_type": "stream",
     "text": [
      "225\n"
     ]
    },
    {
     "name": "stdout",
     "output_type": "stream",
     "text": [
      "256\n"
     ]
    },
    {
     "name": "stdout",
     "output_type": "stream",
     "text": [
      "289\n"
     ]
    },
    {
     "name": "stdout",
     "output_type": "stream",
     "text": [
      "324\n"
     ]
    },
    {
     "name": "stdout",
     "output_type": "stream",
     "text": [
      "361\n",
      "\n",
      "Took 2.7659 seconds\n"
     ]
    }
   ],
   "source": [
    "tic = time.perf_counter()\n",
    "for x in range(1,20):\n",
    "        print(long_calc(x))\n",
    "toc = time.perf_counter()\n",
    "print(f\"\\nTook {toc - tic:0.4f} seconds\")"
   ]
  },
  {
   "cell_type": "markdown",
   "metadata": {},
   "source": [
    "### Auto parallelized"
   ]
  },
  {
   "cell_type": "code",
   "execution_count": 5,
   "metadata": {
    "execution": {
     "iopub.execute_input": "2022-08-14T00:13:01.416085Z",
     "iopub.status.busy": "2022-08-14T00:13:01.415449Z",
     "iopub.status.idle": "2022-08-14T00:13:02.997815Z",
     "shell.execute_reply": "2022-08-14T00:13:02.996798Z"
    }
   },
   "outputs": [
    {
     "name": "stdout",
     "output_type": "stream",
     "text": [
      "[1, 4, 9, 16, 25, 36, 49, 64, 81, 100, 121, 144, 169, 196, 225, 256, 289, 324, 361]\n",
      "\n",
      "Took 1.5756 seconds\n"
     ]
    }
   ],
   "source": [
    "tic = time.perf_counter()\n",
    "print(par(long_calc,range(1,20)))\n",
    "toc = time.perf_counter()\n",
    "print(f\"\\nTook {toc - tic:0.4f} seconds\")"
   ]
  },
  {
   "cell_type": "code",
   "execution_count": 6,
   "metadata": {
    "execution": {
     "iopub.execute_input": "2022-08-14T00:13:03.002746Z",
     "iopub.status.busy": "2022-08-14T00:13:03.002240Z",
     "iopub.status.idle": "2022-08-14T00:13:04.594851Z",
     "shell.execute_reply": "2022-08-14T00:13:04.593739Z"
    }
   },
   "outputs": [
    {
     "name": "stdout",
     "output_type": "stream",
     "text": [
      "1\n",
      "4\n",
      "9\n",
      "16\n",
      "25\n",
      "36\n",
      "49\n",
      "64\n",
      "81\n",
      "100\n",
      "121\n",
      "144\n",
      "169\n",
      "196\n",
      "225\n",
      "256\n",
      "289\n",
      "324\n",
      "361\n",
      "\n",
      "Took 1.5853 seconds\n"
     ]
    }
   ],
   "source": [
    "tic = time.perf_counter()\n",
    "for p in par(long_calc,range(1,20)):\n",
    "        print(p)\n",
    "toc = time.perf_counter()\n",
    "print(f\"\\nTook {toc - tic:0.4f} seconds\")"
   ]
  },
  {
   "cell_type": "markdown",
   "metadata": {},
   "source": [
    "### Manual parallelized"
   ]
  },
  {
   "cell_type": "code",
   "execution_count": 7,
   "metadata": {
    "execution": {
     "iopub.execute_input": "2022-08-14T00:13:04.599587Z",
     "iopub.status.busy": "2022-08-14T00:13:04.599142Z",
     "iopub.status.idle": "2022-08-14T00:13:06.177862Z",
     "shell.execute_reply": "2022-08-14T00:13:06.176588Z"
    }
   },
   "outputs": [
    {
     "name": "stdout",
     "output_type": "stream",
     "text": [
      "[1, 4, 9, 16, 25, 36, 49, 64, 81, 100, 121, 144, 169, 196, 225, 256, 289, 324, 361]\n",
      "\n",
      "Took 1.5722 seconds\n"
     ]
    }
   ],
   "source": [
    "tic = time.perf_counter()\n",
    "print(res([calc(long_calc,x) for x in range(1,20)]))\n",
    "toc = time.perf_counter()\n",
    "print(f\"\\nTook {toc - tic:0.4f} seconds\")"
   ]
  },
  {
   "cell_type": "code",
   "execution_count": null,
   "metadata": {},
   "outputs": [],
   "source": []
  }
 ],
 "metadata": {
  "kernelspec": {
   "display_name": "Python 3",
   "language": "python",
   "name": "python3"
  },
  "language_info": {
   "codemirror_mode": {
    "name": "ipython",
    "version": 3
   },
   "file_extension": ".py",
   "mimetype": "text/x-python",
   "name": "python",
   "nbconvert_exporter": "python",
   "pygments_lexer": "ipython3",
   "version": "3.8.10"
  }
 },
 "nbformat": 4,
 "nbformat_minor": 4
}
