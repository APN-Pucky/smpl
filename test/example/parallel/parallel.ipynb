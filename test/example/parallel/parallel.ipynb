{
 "cells": [
  {
   "cell_type": "markdown",
   "metadata": {},
   "source": [
    "# Parallel"
   ]
  },
  {
   "cell_type": "code",
   "execution_count": 1,
   "metadata": {
    "execution": {
     "iopub.execute_input": "2021-12-28T22:35:32.123354Z",
     "iopub.status.busy": "2021-12-28T22:35:32.122870Z",
     "iopub.status.idle": "2021-12-28T22:35:33.680453Z",
     "shell.execute_reply": "2021-12-28T22:35:33.679849Z"
    }
   },
   "outputs": [],
   "source": [
    "import smpl\n",
    "from smpl import plot\n",
    "from smpl import functions as f\n",
    "import time\n",
    "from smpl.parallel import *\n"
   ]
  },
  {
   "cell_type": "code",
   "execution_count": 2,
   "metadata": {
    "execution": {
     "iopub.execute_input": "2021-12-28T22:35:33.684804Z",
     "iopub.status.busy": "2021-12-28T22:35:33.684287Z",
     "iopub.status.idle": "2021-12-28T22:35:33.686438Z",
     "shell.execute_reply": "2021-12-28T22:35:33.686050Z"
    }
   },
   "outputs": [],
   "source": [
    "# our heavy duty test function we aim to parallelize\n",
    "def long_calc(x):\n",
    "    for i in range(1000000):\n",
    "        i = i+x\n",
    "        i = i*x\n",
    "        i = i/x\n",
    "        i = i-x\n",
    "    return x*x"
   ]
  },
  {
   "cell_type": "markdown",
   "metadata": {},
   "source": [
    "### Non-parallelized"
   ]
  },
  {
   "cell_type": "code",
   "execution_count": 3,
   "metadata": {
    "execution": {
     "iopub.execute_input": "2021-12-28T22:35:33.708961Z",
     "iopub.status.busy": "2021-12-28T22:35:33.698504Z",
     "iopub.status.idle": "2021-12-28T22:35:36.213119Z",
     "shell.execute_reply": "2021-12-28T22:35:36.213487Z"
    }
   },
   "outputs": [
    {
     "name": "stdout",
     "output_type": "stream",
     "text": [
      "[1, 4, 9, 16, 25, 36, 49, 64, 81, 100, 121, 144, 169, 196, 225, 256, 289, 324, 361]\n",
      "\n",
      "Took 2.5205 seconds\n"
     ]
    }
   ],
   "source": [
    "tic = time.perf_counter()\n",
    "print([long_calc(x) for x in range(1,20)])\n",
    "toc = time.perf_counter()\n",
    "print(f\"\\nTook {toc - tic:0.4f} seconds\")"
   ]
  },
  {
   "cell_type": "code",
   "execution_count": 4,
   "metadata": {
    "execution": {
     "iopub.execute_input": "2021-12-28T22:35:36.236006Z",
     "iopub.status.busy": "2021-12-28T22:35:36.230829Z",
     "iopub.status.idle": "2021-12-28T22:35:38.765266Z",
     "shell.execute_reply": "2021-12-28T22:35:38.765686Z"
    }
   },
   "outputs": [
    {
     "name": "stdout",
     "output_type": "stream",
     "text": [
      "1\n"
     ]
    },
    {
     "name": "stdout",
     "output_type": "stream",
     "text": [
      "4\n"
     ]
    },
    {
     "name": "stdout",
     "output_type": "stream",
     "text": [
      "9\n"
     ]
    },
    {
     "name": "stdout",
     "output_type": "stream",
     "text": [
      "16\n"
     ]
    },
    {
     "name": "stdout",
     "output_type": "stream",
     "text": [
      "25\n"
     ]
    },
    {
     "name": "stdout",
     "output_type": "stream",
     "text": [
      "36\n"
     ]
    },
    {
     "name": "stdout",
     "output_type": "stream",
     "text": [
      "49\n"
     ]
    },
    {
     "name": "stdout",
     "output_type": "stream",
     "text": [
      "64\n"
     ]
    },
    {
     "name": "stdout",
     "output_type": "stream",
     "text": [
      "81\n"
     ]
    },
    {
     "name": "stdout",
     "output_type": "stream",
     "text": [
      "100\n"
     ]
    },
    {
     "name": "stdout",
     "output_type": "stream",
     "text": [
      "121\n"
     ]
    },
    {
     "name": "stdout",
     "output_type": "stream",
     "text": [
      "144\n"
     ]
    },
    {
     "name": "stdout",
     "output_type": "stream",
     "text": [
      "169\n"
     ]
    },
    {
     "name": "stdout",
     "output_type": "stream",
     "text": [
      "196\n"
     ]
    },
    {
     "name": "stdout",
     "output_type": "stream",
     "text": [
      "225\n"
     ]
    },
    {
     "name": "stdout",
     "output_type": "stream",
     "text": [
      "256\n"
     ]
    },
    {
     "name": "stdout",
     "output_type": "stream",
     "text": [
      "289\n"
     ]
    },
    {
     "name": "stdout",
     "output_type": "stream",
     "text": [
      "324\n"
     ]
    },
    {
     "name": "stdout",
     "output_type": "stream",
     "text": [
      "361\n",
      "\n",
      "Took 2.5456 seconds\n"
     ]
    }
   ],
   "source": [
    "tic = time.perf_counter()\n",
    "for x in range(1,20):\n",
    "        print(long_calc(x))\n",
    "toc = time.perf_counter()\n",
    "print(f\"\\nTook {toc - tic:0.4f} seconds\")"
   ]
  },
  {
   "cell_type": "markdown",
   "metadata": {},
   "source": [
    "### Auto parallelized"
   ]
  },
  {
   "cell_type": "code",
   "execution_count": 5,
   "metadata": {
    "execution": {
     "iopub.execute_input": "2021-12-28T22:35:38.769594Z",
     "iopub.status.busy": "2021-12-28T22:35:38.769146Z",
     "iopub.status.idle": "2021-12-28T22:35:40.157684Z",
     "shell.execute_reply": "2021-12-28T22:35:40.158321Z"
    }
   },
   "outputs": [
    {
     "name": "stdout",
     "output_type": "stream",
     "text": [
      "[1, 4, 9, 16, 25, 36, 49, 64, 81, 100, 121, 144, 169, 196, 225, 256, 289, 324, 361]\n",
      "\n",
      "Took 1.3843 seconds\n"
     ]
    }
   ],
   "source": [
    "tic = time.perf_counter()\n",
    "print(par(long_calc,range(1,20)))\n",
    "toc = time.perf_counter()\n",
    "print(f\"\\nTook {toc - tic:0.4f} seconds\")"
   ]
  },
  {
   "cell_type": "code",
   "execution_count": 6,
   "metadata": {
    "execution": {
     "iopub.execute_input": "2021-12-28T22:35:40.163058Z",
     "iopub.status.busy": "2021-12-28T22:35:40.162616Z",
     "iopub.status.idle": "2021-12-28T22:35:41.551453Z",
     "shell.execute_reply": "2021-12-28T22:35:41.552083Z"
    }
   },
   "outputs": [
    {
     "name": "stdout",
     "output_type": "stream",
     "text": [
      "1\n",
      "4\n",
      "9\n",
      "16\n",
      "25\n",
      "36\n",
      "49\n",
      "64\n",
      "81\n",
      "100\n",
      "121\n",
      "144\n",
      "169\n",
      "196\n",
      "225\n",
      "256\n",
      "289\n",
      "324\n",
      "361\n",
      "\n",
      "Took 1.3850 seconds\n"
     ]
    }
   ],
   "source": [
    "tic = time.perf_counter()\n",
    "for p in par(long_calc,range(1,20)):\n",
    "        print(p)\n",
    "toc = time.perf_counter()\n",
    "print(f\"\\nTook {toc - tic:0.4f} seconds\")"
   ]
  },
  {
   "cell_type": "markdown",
   "metadata": {},
   "source": [
    "### Manual parallelized"
   ]
  },
  {
   "cell_type": "code",
   "execution_count": 7,
   "metadata": {
    "execution": {
     "iopub.execute_input": "2021-12-28T22:35:41.557058Z",
     "iopub.status.busy": "2021-12-28T22:35:41.556427Z",
     "iopub.status.idle": "2021-12-28T22:35:42.937348Z",
     "shell.execute_reply": "2021-12-28T22:35:42.937990Z"
    }
   },
   "outputs": [
    {
     "name": "stdout",
     "output_type": "stream",
     "text": [
      "[1, 4, 9, 16, 25, 36, 49, 64, 81, 100, 121, 144, 169, 196, 225, 256, 289, 324, 361]\n",
      "\n",
      "Took 1.3767 seconds\n"
     ]
    }
   ],
   "source": [
    "tic = time.perf_counter()\n",
    "print(res([calc(long_calc,x) for x in range(1,20)]))\n",
    "toc = time.perf_counter()\n",
    "print(f\"\\nTook {toc - tic:0.4f} seconds\")"
   ]
  },
  {
   "cell_type": "code",
   "execution_count": null,
   "metadata": {},
   "outputs": [],
   "source": []
  }
 ],
 "metadata": {
  "kernelspec": {
   "display_name": "Python 3",
   "language": "python",
   "name": "python3"
  },
  "language_info": {
   "codemirror_mode": {
    "name": "ipython",
    "version": 3
   },
   "file_extension": ".py",
   "mimetype": "text/x-python",
   "name": "python",
   "nbconvert_exporter": "python",
   "pygments_lexer": "ipython3",
   "version": "3.8.10"
  }
 },
 "nbformat": 4,
 "nbformat_minor": 4
}
