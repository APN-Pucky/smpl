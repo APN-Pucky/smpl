{
 "cells": [
  {
   "cell_type": "markdown",
   "metadata": {},
   "source": [
    "# Parallel"
   ]
  },
  {
   "cell_type": "code",
   "execution_count": 1,
   "metadata": {
    "execution": {
     "iopub.execute_input": "2022-10-17T22:25:50.468813Z",
     "iopub.status.busy": "2022-10-17T22:25:50.468577Z",
     "iopub.status.idle": "2022-10-17T22:25:51.933302Z",
     "shell.execute_reply": "2022-10-17T22:25:51.932735Z"
    }
   },
   "outputs": [
    {
     "data": {
      "text/plain": [
       "2"
      ]
     },
     "execution_count": 1,
     "metadata": {},
     "output_type": "execute_result"
    }
   ],
   "source": [
    "import smpl\n",
    "from smpl import plot\n",
    "from smpl import functions as f\n",
    "import time\n",
    "from smpl.parallel import *\n",
    "import multiprocessing as mp\n",
    "mp.cpu_count()"
   ]
  },
  {
   "cell_type": "code",
   "execution_count": 2,
   "metadata": {
    "execution": {
     "iopub.execute_input": "2022-10-17T22:25:51.936331Z",
     "iopub.status.busy": "2022-10-17T22:25:51.936053Z",
     "iopub.status.idle": "2022-10-17T22:25:51.940934Z",
     "shell.execute_reply": "2022-10-17T22:25:51.940361Z"
    }
   },
   "outputs": [],
   "source": [
    "# our heavy duty test function we aim to parallelize\n",
    "def long_calc(x):\n",
    "    for i in range(1000000):\n",
    "        i = i+x\n",
    "        i = i*x\n",
    "        i = i/x\n",
    "        i = i-x\n",
    "    return x*x"
   ]
  },
  {
   "cell_type": "markdown",
   "metadata": {},
   "source": [
    "### Non-parallelized"
   ]
  },
  {
   "cell_type": "code",
   "execution_count": 3,
   "metadata": {
    "execution": {
     "iopub.execute_input": "2022-10-17T22:25:51.943666Z",
     "iopub.status.busy": "2022-10-17T22:25:51.943344Z",
     "iopub.status.idle": "2022-10-17T22:25:54.086392Z",
     "shell.execute_reply": "2022-10-17T22:25:54.085734Z"
    }
   },
   "outputs": [
    {
     "name": "stdout",
     "output_type": "stream",
     "text": [
      "[1, 4, 9, 16, 25, 36, 49, 64, 81, 100, 121, 144, 169, 196, 225, 256, 289, 324, 361]\n",
      "\n",
      "Took 2.1390 seconds\n"
     ]
    }
   ],
   "source": [
    "tic = time.perf_counter()\n",
    "print([long_calc(x) for x in range(1,20)])\n",
    "toc = time.perf_counter()\n",
    "print(f\"\\nTook {toc - tic:0.4f} seconds\")"
   ]
  },
  {
   "cell_type": "code",
   "execution_count": 4,
   "metadata": {
    "execution": {
     "iopub.execute_input": "2022-10-17T22:25:54.089231Z",
     "iopub.status.busy": "2022-10-17T22:25:54.088895Z",
     "iopub.status.idle": "2022-10-17T22:25:56.160201Z",
     "shell.execute_reply": "2022-10-17T22:25:56.159406Z"
    }
   },
   "outputs": [
    {
     "name": "stdout",
     "output_type": "stream",
     "text": [
      "1\n"
     ]
    },
    {
     "name": "stdout",
     "output_type": "stream",
     "text": [
      "4\n"
     ]
    },
    {
     "name": "stdout",
     "output_type": "stream",
     "text": [
      "9\n"
     ]
    },
    {
     "name": "stdout",
     "output_type": "stream",
     "text": [
      "16\n",
      "25\n"
     ]
    },
    {
     "name": "stdout",
     "output_type": "stream",
     "text": [
      "36\n",
      "49\n"
     ]
    },
    {
     "name": "stdout",
     "output_type": "stream",
     "text": [
      "64\n",
      "81\n",
      "100\n"
     ]
    },
    {
     "name": "stdout",
     "output_type": "stream",
     "text": [
      "121\n",
      "144\n"
     ]
    },
    {
     "name": "stdout",
     "output_type": "stream",
     "text": [
      "169\n",
      "196\n",
      "225\n"
     ]
    },
    {
     "name": "stdout",
     "output_type": "stream",
     "text": [
      "256\n",
      "289\n"
     ]
    },
    {
     "name": "stdout",
     "output_type": "stream",
     "text": [
      "324\n",
      "361\n",
      "\n",
      "Took 2.0673 seconds\n"
     ]
    }
   ],
   "source": [
    "tic = time.perf_counter()\n",
    "for x in range(1,20):\n",
    "        print(long_calc(x))\n",
    "toc = time.perf_counter()\n",
    "print(f\"\\nTook {toc - tic:0.4f} seconds\")"
   ]
  },
  {
   "cell_type": "markdown",
   "metadata": {},
   "source": [
    "### Auto parallelized"
   ]
  },
  {
   "cell_type": "code",
   "execution_count": 5,
   "metadata": {
    "execution": {
     "iopub.execute_input": "2022-10-17T22:25:56.163238Z",
     "iopub.status.busy": "2022-10-17T22:25:56.162732Z",
     "iopub.status.idle": "2022-10-17T22:25:58.949289Z",
     "shell.execute_reply": "2022-10-17T22:25:58.948544Z"
    }
   },
   "outputs": [
    {
     "name": "stdout",
     "output_type": "stream",
     "text": [
      "[1, 4, 9, 16, 25, 36, 49, 64, 81, 100, 121, 144, 169, 196, 225, 256, 289, 324, 361]\n",
      "\n",
      "Took 2.7810 seconds\n"
     ]
    }
   ],
   "source": [
    "tic = time.perf_counter()\n",
    "print(parallel(long_calc,range(1,20)))\n",
    "toc = time.perf_counter()\n",
    "print(f\"\\nTook {toc - tic:0.4f} seconds\")"
   ]
  },
  {
   "cell_type": "code",
   "execution_count": 6,
   "metadata": {
    "execution": {
     "iopub.execute_input": "2022-10-17T22:25:58.952568Z",
     "iopub.status.busy": "2022-10-17T22:25:58.952088Z",
     "iopub.status.idle": "2022-10-17T22:26:01.748886Z",
     "shell.execute_reply": "2022-10-17T22:26:01.748147Z"
    }
   },
   "outputs": [
    {
     "name": "stdout",
     "output_type": "stream",
     "text": [
      "1\n",
      "4\n",
      "9\n",
      "16\n",
      "25\n",
      "36\n",
      "49\n",
      "64\n",
      "81\n",
      "100\n",
      "121\n",
      "144\n",
      "169\n",
      "196\n",
      "225\n",
      "256\n",
      "289\n",
      "324\n",
      "361\n",
      "\n",
      "Took 2.7906 seconds\n"
     ]
    }
   ],
   "source": [
    "tic = time.perf_counter()\n",
    "for p in parallel(long_calc,range(1,20)):\n",
    "        print(p)\n",
    "toc = time.perf_counter()\n",
    "print(f\"\\nTook {toc - tic:0.4f} seconds\")"
   ]
  },
  {
   "cell_type": "markdown",
   "metadata": {},
   "source": [
    "### Manual parallelized"
   ]
  },
  {
   "cell_type": "code",
   "execution_count": 7,
   "metadata": {
    "execution": {
     "iopub.execute_input": "2022-10-17T22:26:01.752607Z",
     "iopub.status.busy": "2022-10-17T22:26:01.752068Z",
     "iopub.status.idle": "2022-10-17T22:26:02.957202Z",
     "shell.execute_reply": "2022-10-17T22:26:02.956414Z"
    }
   },
   "outputs": [
    {
     "name": "stdout",
     "output_type": "stream",
     "text": [
      "[1, 4, 9, 16, 25, 36, 49, 64, 81, 100, 121, 144, 169, 196, 225, 256, 289, 324, 361]\n",
      "\n",
      "Took 1.2000 seconds\n"
     ]
    }
   ],
   "source": [
    "tic = time.perf_counter()\n",
    "print(res([calc(long_calc,x) for x in range(1,20)]))\n",
    "toc = time.perf_counter()\n",
    "print(f\"\\nTook {toc - tic:0.4f} seconds\")"
   ]
  },
  {
   "cell_type": "markdown",
   "metadata": {},
   "source": [
    "### Lambda usage"
   ]
  },
  {
   "cell_type": "code",
   "execution_count": 8,
   "metadata": {
    "execution": {
     "iopub.execute_input": "2022-10-17T22:26:02.960539Z",
     "iopub.status.busy": "2022-10-17T22:26:02.960098Z",
     "iopub.status.idle": "2022-10-17T22:26:08.661110Z",
     "shell.execute_reply": "2022-10-17T22:26:08.660360Z"
    }
   },
   "outputs": [
    {
     "name": "stdout",
     "output_type": "stream",
     "text": [
      "[1, 4, 9, 16, 25, 36, 49, 64, 81, 100, 121, 144, 169, 196, 225, 256, 289, 324, 361]\n",
      "\n",
      "Took 5.6946 seconds\n"
     ]
    }
   ],
   "source": [
    "tic = time.perf_counter()\n",
    "print(parallel(lambda x : ([(i+x,i*x,i/x,i-x) for i in range(1000000)] + [x*x])[-1],range(1,20)))\n",
    "toc = time.perf_counter()\n",
    "print(f\"\\nTook {toc - tic:0.4f} seconds\")"
   ]
  },
  {
   "cell_type": "code",
   "execution_count": 9,
   "metadata": {
    "execution": {
     "iopub.execute_input": "2022-10-17T22:26:08.664689Z",
     "iopub.status.busy": "2022-10-17T22:26:08.664121Z",
     "iopub.status.idle": "2022-10-17T22:26:14.833540Z",
     "shell.execute_reply": "2022-10-17T22:26:14.832873Z"
    }
   },
   "outputs": [
    {
     "name": "stdout",
     "output_type": "stream",
     "text": [
      "[1, 4, 9, 16, 25, 36, 49, 64, 81, 100, 121, 144, 169, 196, 225, 256, 289, 324, 361]\n",
      "\n",
      "Took 6.1636 seconds\n"
     ]
    }
   ],
   "source": [
    "tic = time.perf_counter()\n",
    "print([(lambda x : ([(i+x,i*x,i/x,i-x) for i in range(1000000)] + [x*x])[-1])(x) for x in range(1,20)])\n",
    "toc = time.perf_counter()\n",
    "print(f\"\\nTook {toc - tic:0.4f} seconds\")"
   ]
  },
  {
   "cell_type": "code",
   "execution_count": 10,
   "metadata": {
    "execution": {
     "iopub.execute_input": "2022-10-17T22:26:14.836534Z",
     "iopub.status.busy": "2022-10-17T22:26:14.836209Z",
     "iopub.status.idle": "2022-10-17T22:26:19.573908Z",
     "shell.execute_reply": "2022-10-17T22:26:19.573142Z"
    }
   },
   "outputs": [
    {
     "name": "stdout",
     "output_type": "stream",
     "text": [
      "[1, 4, 9, 16, 25, 36, 49, 64, 81, 100, 121, 144, 169, 196, 225, 256, 289, 324, 361]\n",
      "\n",
      "Took 4.7318 seconds\n"
     ]
    }
   ],
   "source": [
    "tic = time.perf_counter()\n",
    "print(partitioned_parallel(lambda x : ([(i+x,i*x,i/x,i-x) for i in range(1000000)] + [x*x])[-1],range(1,20)))\n",
    "toc = time.perf_counter()\n",
    "print(f\"\\nTook {toc - tic:0.4f} seconds\")"
   ]
  },
  {
   "cell_type": "code",
   "execution_count": null,
   "metadata": {},
   "outputs": [],
   "source": []
  }
 ],
 "metadata": {
  "kernelspec": {
   "display_name": "Python 3",
   "language": "python",
   "name": "python3"
  },
  "language_info": {
   "codemirror_mode": {
    "name": "ipython",
    "version": 3
   },
   "file_extension": ".py",
   "mimetype": "text/x-python",
   "name": "python",
   "nbconvert_exporter": "python",
   "pygments_lexer": "ipython3",
   "version": "3.8.10"
  }
 },
 "nbformat": 4,
 "nbformat_minor": 4
}
