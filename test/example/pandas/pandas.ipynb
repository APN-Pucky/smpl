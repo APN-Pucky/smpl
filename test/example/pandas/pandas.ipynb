{
 "cells": [
  {
   "cell_type": "markdown",
   "metadata": {},
   "source": [
    "# pandas\n",
    "\n",
    "see: https://pandas.pydata.org/pandas-docs/stable/"
   ]
  },
  {
   "cell_type": "code",
   "execution_count": 1,
   "metadata": {
    "execution": {
     "iopub.execute_input": "2021-11-15T09:11:17.909732Z",
     "iopub.status.busy": "2021-11-15T09:11:17.909091Z",
     "iopub.status.idle": "2021-11-15T09:11:18.201592Z",
     "shell.execute_reply": "2021-11-15T09:11:18.202396Z"
    }
   },
   "outputs": [],
   "source": [
    "import pandas as pd"
   ]
  },
  {
   "cell_type": "markdown",
   "metadata": {},
   "source": [
    "## Read"
   ]
  },
  {
   "cell_type": "code",
   "execution_count": 2,
   "metadata": {
    "execution": {
     "iopub.execute_input": "2021-11-15T09:11:18.207850Z",
     "iopub.status.busy": "2021-11-15T09:11:18.207155Z",
     "iopub.status.idle": "2021-11-15T09:11:18.228370Z",
     "shell.execute_reply": "2021-11-15T09:11:18.228969Z"
    }
   },
   "outputs": [
    {
     "data": {
      "text/html": [
       "<div>\n",
       "<style scoped>\n",
       "    .dataframe tbody tr th:only-of-type {\n",
       "        vertical-align: middle;\n",
       "    }\n",
       "\n",
       "    .dataframe tbody tr th {\n",
       "        vertical-align: top;\n",
       "    }\n",
       "\n",
       "    .dataframe thead th {\n",
       "        text-align: right;\n",
       "    }\n",
       "</style>\n",
       "<table border=\"1\" class=\"dataframe\">\n",
       "  <thead>\n",
       "    <tr style=\"text-align: right;\">\n",
       "      <th></th>\n",
       "      <th>x</th>\n",
       "      <th>y</th>\n",
       "      <th>dx</th>\n",
       "      <th>dy</th>\n",
       "    </tr>\n",
       "  </thead>\n",
       "  <tbody>\n",
       "    <tr>\n",
       "      <th>0</th>\n",
       "      <td>0</td>\n",
       "      <td>1</td>\n",
       "      <td>0.1</td>\n",
       "      <td>0.2</td>\n",
       "    </tr>\n",
       "    <tr>\n",
       "      <th>1</th>\n",
       "      <td>1</td>\n",
       "      <td>2</td>\n",
       "      <td>0.2</td>\n",
       "      <td>0.1</td>\n",
       "    </tr>\n",
       "    <tr>\n",
       "      <th>2</th>\n",
       "      <td>2</td>\n",
       "      <td>3</td>\n",
       "      <td>0.3</td>\n",
       "      <td>0.1</td>\n",
       "    </tr>\n",
       "    <tr>\n",
       "      <th>3</th>\n",
       "      <td>3</td>\n",
       "      <td>5</td>\n",
       "      <td>0.1</td>\n",
       "      <td>0.4</td>\n",
       "    </tr>\n",
       "    <tr>\n",
       "      <th>4</th>\n",
       "      <td>4</td>\n",
       "      <td>5</td>\n",
       "      <td>0.1</td>\n",
       "      <td>0.1</td>\n",
       "    </tr>\n",
       "    <tr>\n",
       "      <th>5</th>\n",
       "      <td>5</td>\n",
       "      <td>6</td>\n",
       "      <td>0.1</td>\n",
       "      <td>0.2</td>\n",
       "    </tr>\n",
       "  </tbody>\n",
       "</table>\n",
       "</div>"
      ],
      "text/plain": [
       "   x  y   dx   dy\n",
       "0  0  1  0.1  0.2\n",
       "1  1  2  0.2  0.1\n",
       "2  2  3  0.3  0.1\n",
       "3  3  5  0.1  0.4\n",
       "4  4  5  0.1  0.1\n",
       "5  5  6  0.1  0.2"
      ]
     },
     "execution_count": 2,
     "metadata": {},
     "output_type": "execute_result"
    }
   ],
   "source": [
    "data = pd.read_csv('test_linear_data.txt',delimiter=\" \")\n",
    "data"
   ]
  },
  {
   "cell_type": "code",
   "execution_count": 3,
   "metadata": {
    "execution": {
     "iopub.execute_input": "2021-11-15T09:11:18.239963Z",
     "iopub.status.busy": "2021-11-15T09:11:18.239242Z",
     "iopub.status.idle": "2021-11-15T09:11:18.243791Z",
     "shell.execute_reply": "2021-11-15T09:11:18.243045Z"
    }
   },
   "outputs": [
    {
     "data": {
      "text/html": [
       "<div>\n",
       "<style scoped>\n",
       "    .dataframe tbody tr th:only-of-type {\n",
       "        vertical-align: middle;\n",
       "    }\n",
       "\n",
       "    .dataframe tbody tr th {\n",
       "        vertical-align: top;\n",
       "    }\n",
       "\n",
       "    .dataframe thead th {\n",
       "        text-align: right;\n",
       "    }\n",
       "</style>\n",
       "<table border=\"1\" class=\"dataframe\">\n",
       "  <thead>\n",
       "    <tr style=\"text-align: right;\">\n",
       "      <th></th>\n",
       "      <th>x</th>\n",
       "      <th>y</th>\n",
       "      <th>dx</th>\n",
       "      <th>dy</th>\n",
       "      <th>z</th>\n",
       "    </tr>\n",
       "  </thead>\n",
       "  <tbody>\n",
       "    <tr>\n",
       "      <th>0</th>\n",
       "      <td>0</td>\n",
       "      <td>1</td>\n",
       "      <td>0.1</td>\n",
       "      <td>0.2</td>\n",
       "      <td>0</td>\n",
       "    </tr>\n",
       "    <tr>\n",
       "      <th>1</th>\n",
       "      <td>1</td>\n",
       "      <td>2</td>\n",
       "      <td>0.2</td>\n",
       "      <td>0.1</td>\n",
       "      <td>2</td>\n",
       "    </tr>\n",
       "    <tr>\n",
       "      <th>2</th>\n",
       "      <td>2</td>\n",
       "      <td>3</td>\n",
       "      <td>0.3</td>\n",
       "      <td>0.1</td>\n",
       "      <td>6</td>\n",
       "    </tr>\n",
       "    <tr>\n",
       "      <th>3</th>\n",
       "      <td>3</td>\n",
       "      <td>5</td>\n",
       "      <td>0.1</td>\n",
       "      <td>0.4</td>\n",
       "      <td>15</td>\n",
       "    </tr>\n",
       "    <tr>\n",
       "      <th>4</th>\n",
       "      <td>4</td>\n",
       "      <td>5</td>\n",
       "      <td>0.1</td>\n",
       "      <td>0.1</td>\n",
       "      <td>20</td>\n",
       "    </tr>\n",
       "    <tr>\n",
       "      <th>5</th>\n",
       "      <td>5</td>\n",
       "      <td>6</td>\n",
       "      <td>0.1</td>\n",
       "      <td>0.2</td>\n",
       "      <td>30</td>\n",
       "    </tr>\n",
       "  </tbody>\n",
       "</table>\n",
       "</div>"
      ],
      "text/plain": [
       "   x  y   dx   dy   z\n",
       "0  0  1  0.1  0.2   0\n",
       "1  1  2  0.2  0.1   2\n",
       "2  2  3  0.3  0.1   6\n",
       "3  3  5  0.1  0.4  15\n",
       "4  4  5  0.1  0.1  20\n",
       "5  5  6  0.1  0.2  30"
      ]
     },
     "execution_count": 3,
     "metadata": {},
     "output_type": "execute_result"
    }
   ],
   "source": [
    "data['z'] = data['x']*data['y']\n",
    "data"
   ]
  },
  {
   "cell_type": "code",
   "execution_count": 4,
   "metadata": {
    "execution": {
     "iopub.execute_input": "2021-11-15T09:11:18.253889Z",
     "iopub.status.busy": "2021-11-15T09:11:18.250934Z",
     "iopub.status.idle": "2021-11-15T09:11:18.274559Z",
     "shell.execute_reply": "2021-11-15T09:11:18.275151Z"
    }
   },
   "outputs": [
    {
     "data": {
      "text/html": [
       "<div>\n",
       "<style scoped>\n",
       "    .dataframe tbody tr th:only-of-type {\n",
       "        vertical-align: middle;\n",
       "    }\n",
       "\n",
       "    .dataframe tbody tr th {\n",
       "        vertical-align: top;\n",
       "    }\n",
       "\n",
       "    .dataframe thead th {\n",
       "        text-align: right;\n",
       "    }\n",
       "</style>\n",
       "<table border=\"1\" class=\"dataframe\">\n",
       "  <thead>\n",
       "    <tr style=\"text-align: right;\">\n",
       "      <th></th>\n",
       "      <th>x</th>\n",
       "      <th>y</th>\n",
       "      <th>dx</th>\n",
       "      <th>dy</th>\n",
       "      <th>z</th>\n",
       "    </tr>\n",
       "  </thead>\n",
       "  <tbody>\n",
       "    <tr>\n",
       "      <th>count</th>\n",
       "      <td>6.000000</td>\n",
       "      <td>6.000000</td>\n",
       "      <td>6.000000</td>\n",
       "      <td>6.000000</td>\n",
       "      <td>6.000000</td>\n",
       "    </tr>\n",
       "    <tr>\n",
       "      <th>mean</th>\n",
       "      <td>2.500000</td>\n",
       "      <td>3.666667</td>\n",
       "      <td>0.150000</td>\n",
       "      <td>0.183333</td>\n",
       "      <td>12.166667</td>\n",
       "    </tr>\n",
       "    <tr>\n",
       "      <th>std</th>\n",
       "      <td>1.870829</td>\n",
       "      <td>1.966384</td>\n",
       "      <td>0.083666</td>\n",
       "      <td>0.116905</td>\n",
       "      <td>11.634718</td>\n",
       "    </tr>\n",
       "    <tr>\n",
       "      <th>min</th>\n",
       "      <td>0.000000</td>\n",
       "      <td>1.000000</td>\n",
       "      <td>0.100000</td>\n",
       "      <td>0.100000</td>\n",
       "      <td>0.000000</td>\n",
       "    </tr>\n",
       "    <tr>\n",
       "      <th>25%</th>\n",
       "      <td>1.250000</td>\n",
       "      <td>2.250000</td>\n",
       "      <td>0.100000</td>\n",
       "      <td>0.100000</td>\n",
       "      <td>3.000000</td>\n",
       "    </tr>\n",
       "    <tr>\n",
       "      <th>50%</th>\n",
       "      <td>2.500000</td>\n",
       "      <td>4.000000</td>\n",
       "      <td>0.100000</td>\n",
       "      <td>0.150000</td>\n",
       "      <td>10.500000</td>\n",
       "    </tr>\n",
       "    <tr>\n",
       "      <th>75%</th>\n",
       "      <td>3.750000</td>\n",
       "      <td>5.000000</td>\n",
       "      <td>0.175000</td>\n",
       "      <td>0.200000</td>\n",
       "      <td>18.750000</td>\n",
       "    </tr>\n",
       "    <tr>\n",
       "      <th>max</th>\n",
       "      <td>5.000000</td>\n",
       "      <td>6.000000</td>\n",
       "      <td>0.300000</td>\n",
       "      <td>0.400000</td>\n",
       "      <td>30.000000</td>\n",
       "    </tr>\n",
       "  </tbody>\n",
       "</table>\n",
       "</div>"
      ],
      "text/plain": [
       "              x         y        dx        dy          z\n",
       "count  6.000000  6.000000  6.000000  6.000000   6.000000\n",
       "mean   2.500000  3.666667  0.150000  0.183333  12.166667\n",
       "std    1.870829  1.966384  0.083666  0.116905  11.634718\n",
       "min    0.000000  1.000000  0.100000  0.100000   0.000000\n",
       "25%    1.250000  2.250000  0.100000  0.100000   3.000000\n",
       "50%    2.500000  4.000000  0.100000  0.150000  10.500000\n",
       "75%    3.750000  5.000000  0.175000  0.200000  18.750000\n",
       "max    5.000000  6.000000  0.300000  0.400000  30.000000"
      ]
     },
     "execution_count": 4,
     "metadata": {},
     "output_type": "execute_result"
    }
   ],
   "source": [
    "data.describe()"
   ]
  },
  {
   "cell_type": "code",
   "execution_count": 5,
   "metadata": {
    "execution": {
     "iopub.execute_input": "2021-11-15T09:11:18.280135Z",
     "iopub.status.busy": "2021-11-15T09:11:18.278624Z",
     "iopub.status.idle": "2021-11-15T09:11:18.705021Z",
     "shell.execute_reply": "2021-11-15T09:11:18.705788Z"
    }
   },
   "outputs": [
    {
     "data": {
      "text/plain": [
       "<AxesSubplot:xlabel='x'>"
      ]
     },
     "execution_count": 5,
     "metadata": {},
     "output_type": "execute_result"
    },
    {
     "data": {
      "image/png": "[encoded data removed]",
      "text/plain": [
       "<Figure size 432x288 with 1 Axes>"
      ]
     },
     "metadata": {
      "needs_background": "light"
     },
     "output_type": "display_data"
    }
   ],
   "source": [
    "data.plot(x='x',y='z')"
   ]
  },
  {
   "cell_type": "markdown",
   "metadata": {},
   "source": [
    "## To Latex"
   ]
  },
  {
   "cell_type": "code",
   "execution_count": 6,
   "metadata": {
    "execution": {
     "iopub.execute_input": "2021-11-15T09:11:18.711783Z",
     "iopub.status.busy": "2021-11-15T09:11:18.711116Z",
     "iopub.status.idle": "2021-11-15T09:11:18.720816Z",
     "shell.execute_reply": "2021-11-15T09:11:18.721351Z"
    }
   },
   "outputs": [
    {
     "name": "stdout",
     "output_type": "stream",
     "text": [
      "\\begin{tabular}{llll}\n",
      "\\toprule\n",
      "{} &       name &    mask &    weapon \\\\\n",
      "\\midrule\n",
      "0 &    Raphael &     red &       sai \\\\\n",
      "1 &  Donatello &  purple &  bo staff \\\\\n",
      "\\bottomrule\n",
      "\\end{tabular}\n",
      "\n"
     ]
    }
   ],
   "source": [
    "df = pd.DataFrame({'name': ['Raphael', 'Donatello'],\n",
    "\n",
    "                   'mask': ['red', 'purple'],\n",
    "\n",
    "                   'weapon': ['sai', 'bo staff']})\n",
    "print(df.to_latex())"
   ]
  },
  {
   "cell_type": "markdown",
   "metadata": {},
   "source": [
    "Needs \\usepackage{booktabs}"
   ]
  },
  {
   "cell_type": "code",
   "execution_count": null,
   "metadata": {},
   "outputs": [],
   "source": []
  },
  {
   "cell_type": "markdown",
   "metadata": {},
   "source": [
    "## pandas + uncertainties"
   ]
  },
  {
   "cell_type": "code",
   "execution_count": 7,
   "metadata": {
    "execution": {
     "iopub.execute_input": "2021-11-15T09:11:18.725700Z",
     "iopub.status.busy": "2021-11-15T09:11:18.725053Z",
     "iopub.status.idle": "2021-11-15T09:11:18.750356Z",
     "shell.execute_reply": "2021-11-15T09:11:18.751150Z"
    }
   },
   "outputs": [],
   "source": [
    "import uncertainties.unumpy as unp"
   ]
  },
  {
   "cell_type": "code",
   "execution_count": 8,
   "metadata": {
    "execution": {
     "iopub.execute_input": "2021-11-15T09:11:18.757251Z",
     "iopub.status.busy": "2021-11-15T09:11:18.756598Z",
     "iopub.status.idle": "2021-11-15T09:11:18.774151Z",
     "shell.execute_reply": "2021-11-15T09:11:18.774642Z"
    }
   },
   "outputs": [
    {
     "data": {
      "text/html": [
       "<div>\n",
       "<style scoped>\n",
       "    .dataframe tbody tr th:only-of-type {\n",
       "        vertical-align: middle;\n",
       "    }\n",
       "\n",
       "    .dataframe tbody tr th {\n",
       "        vertical-align: top;\n",
       "    }\n",
       "\n",
       "    .dataframe thead th {\n",
       "        text-align: right;\n",
       "    }\n",
       "</style>\n",
       "<table border=\"1\" class=\"dataframe\">\n",
       "  <thead>\n",
       "    <tr style=\"text-align: right;\">\n",
       "      <th></th>\n",
       "      <th>x</th>\n",
       "      <th>y</th>\n",
       "      <th>z</th>\n",
       "    </tr>\n",
       "  </thead>\n",
       "  <tbody>\n",
       "    <tr>\n",
       "      <th>0</th>\n",
       "      <td>0.00+/-0.10</td>\n",
       "      <td>1.00+/-0.20</td>\n",
       "      <td>0.00+/-0.10</td>\n",
       "    </tr>\n",
       "    <tr>\n",
       "      <th>1</th>\n",
       "      <td>1.00+/-0.20</td>\n",
       "      <td>2.00+/-0.10</td>\n",
       "      <td>2.0+/-0.4</td>\n",
       "    </tr>\n",
       "    <tr>\n",
       "      <th>2</th>\n",
       "      <td>2.00+/-0.30</td>\n",
       "      <td>3.00+/-0.10</td>\n",
       "      <td>6.0+/-0.9</td>\n",
       "    </tr>\n",
       "    <tr>\n",
       "      <th>3</th>\n",
       "      <td>3.00+/-0.10</td>\n",
       "      <td>5.0+/-0.4</td>\n",
       "      <td>15.0+/-1.3</td>\n",
       "    </tr>\n",
       "    <tr>\n",
       "      <th>4</th>\n",
       "      <td>4.00+/-0.10</td>\n",
       "      <td>5.00+/-0.10</td>\n",
       "      <td>20.0+/-0.6</td>\n",
       "    </tr>\n",
       "    <tr>\n",
       "      <th>5</th>\n",
       "      <td>5.00+/-0.10</td>\n",
       "      <td>6.00+/-0.20</td>\n",
       "      <td>30.0+/-1.2</td>\n",
       "    </tr>\n",
       "  </tbody>\n",
       "</table>\n",
       "</div>"
      ],
      "text/plain": [
       "             x            y            z\n",
       "0  0.00+/-0.10  1.00+/-0.20  0.00+/-0.10\n",
       "1  1.00+/-0.20  2.00+/-0.10    2.0+/-0.4\n",
       "2  2.00+/-0.30  3.00+/-0.10    6.0+/-0.9\n",
       "3  3.00+/-0.10    5.0+/-0.4   15.0+/-1.3\n",
       "4  4.00+/-0.10  5.00+/-0.10   20.0+/-0.6\n",
       "5  5.00+/-0.10  6.00+/-0.20   30.0+/-1.2"
      ]
     },
     "execution_count": 8,
     "metadata": {},
     "output_type": "execute_result"
    }
   ],
   "source": [
    "rdata = pd.read_csv('test_linear_data.txt',delimiter=\" \")\n",
    "data = pd.DataFrame()\n",
    "data['x'] = unp.uarray(rdata['x'],rdata['dx'])\n",
    "data['y'] = unp.uarray(rdata['y'],rdata['dy'])\n",
    "data['z'] = data['x']*data['y']\n",
    "data"
   ]
  },
  {
   "cell_type": "code",
   "execution_count": 9,
   "metadata": {
    "execution": {
     "iopub.execute_input": "2021-11-15T09:11:18.791166Z",
     "iopub.status.busy": "2021-11-15T09:11:18.790532Z",
     "iopub.status.idle": "2021-11-15T09:11:18.796956Z",
     "shell.execute_reply": "2021-11-15T09:11:18.797473Z"
    }
   },
   "outputs": [
    {
     "data": {
      "text/html": [
       "<div>\n",
       "<style scoped>\n",
       "    .dataframe tbody tr th:only-of-type {\n",
       "        vertical-align: middle;\n",
       "    }\n",
       "\n",
       "    .dataframe tbody tr th {\n",
       "        vertical-align: top;\n",
       "    }\n",
       "\n",
       "    .dataframe thead th {\n",
       "        text-align: right;\n",
       "    }\n",
       "</style>\n",
       "<table border=\"1\" class=\"dataframe\">\n",
       "  <thead>\n",
       "    <tr style=\"text-align: right;\">\n",
       "      <th></th>\n",
       "      <th>x</th>\n",
       "      <th>y</th>\n",
       "      <th>z</th>\n",
       "    </tr>\n",
       "  </thead>\n",
       "  <tbody>\n",
       "    <tr>\n",
       "      <th>count</th>\n",
       "      <td>6</td>\n",
       "      <td>6</td>\n",
       "      <td>6</td>\n",
       "    </tr>\n",
       "    <tr>\n",
       "      <th>unique</th>\n",
       "      <td>6</td>\n",
       "      <td>6</td>\n",
       "      <td>6</td>\n",
       "    </tr>\n",
       "    <tr>\n",
       "      <th>top</th>\n",
       "      <td>0.00+/-0.10</td>\n",
       "      <td>1.00+/-0.20</td>\n",
       "      <td>0.00+/-0.10</td>\n",
       "    </tr>\n",
       "    <tr>\n",
       "      <th>freq</th>\n",
       "      <td>1</td>\n",
       "      <td>1</td>\n",
       "      <td>1</td>\n",
       "    </tr>\n",
       "  </tbody>\n",
       "</table>\n",
       "</div>"
      ],
      "text/plain": [
       "                  x            y            z\n",
       "count             6            6            6\n",
       "unique            6            6            6\n",
       "top     0.00+/-0.10  1.00+/-0.20  0.00+/-0.10\n",
       "freq              1            1            1"
      ]
     },
     "execution_count": 9,
     "metadata": {},
     "output_type": "execute_result"
    }
   ],
   "source": [
    "data.describe()"
   ]
  },
  {
   "cell_type": "markdown",
   "metadata": {},
   "source": [
    "Error once with variance and once without:\n",
    "$nerr=\\sqrt{\\text{var}^2+\\text{err}^2}$"
   ]
  },
  {
   "cell_type": "code",
   "execution_count": 10,
   "metadata": {
    "execution": {
     "iopub.execute_input": "2021-11-15T09:11:18.802332Z",
     "iopub.status.busy": "2021-11-15T09:11:18.801665Z",
     "iopub.status.idle": "2021-11-15T09:11:18.855993Z",
     "shell.execute_reply": "2021-11-15T09:11:18.855266Z"
    }
   },
   "outputs": [
    {
     "name": "stdout",
     "output_type": "stream",
     "text": [
      "2.50+/-0.07\n",
      "2.5+/-1.9\n"
     ]
    }
   ],
   "source": [
    "from smpl import stat\n",
    "print(stat.novar_mean(data['x']))\n",
    "print(stat.mean(data['x']))"
   ]
  },
  {
   "cell_type": "code",
   "execution_count": 11,
   "metadata": {
    "execution": {
     "iopub.execute_input": "2021-11-15T09:11:18.870507Z",
     "iopub.status.busy": "2021-11-15T09:11:18.869832Z",
     "iopub.status.idle": "2021-11-15T09:11:18.874019Z",
     "shell.execute_reply": "2021-11-15T09:11:18.874565Z"
    }
   },
   "outputs": [
    {
     "name": "stdout",
     "output_type": "stream",
     "text": [
      "\\begin{tabular}{llll}\n",
      "\\toprule\n",
      "{} &            x &            y &            z \\\\\n",
      "\\midrule\n",
      "0 &  0.00+/-0.10 &  1.00+/-0.20 &  0.00+/-0.10 \\\\\n",
      "1 &  1.00+/-0.20 &  2.00+/-0.10 &    2.0+/-0.4 \\\\\n",
      "2 &  2.00+/-0.30 &  3.00+/-0.10 &    6.0+/-0.9 \\\\\n",
      "3 &  3.00+/-0.10 &    5.0+/-0.4 &   15.0+/-1.3 \\\\\n",
      "4 &  4.00+/-0.10 &  5.00+/-0.10 &   20.0+/-0.6 \\\\\n",
      "5 &  5.00+/-0.10 &  6.00+/-0.20 &   30.0+/-1.2 \\\\\n",
      "\\bottomrule\n",
      "\\end{tabular}\n",
      "\n"
     ]
    }
   ],
   "source": [
    "print(data.to_latex())"
   ]
  },
  {
   "cell_type": "code",
   "execution_count": null,
   "metadata": {},
   "outputs": [],
   "source": []
  },
  {
   "cell_type": "markdown",
   "metadata": {},
   "source": [
    "## pandas + plot"
   ]
  },
  {
   "cell_type": "code",
   "execution_count": 12,
   "metadata": {
    "execution": {
     "iopub.execute_input": "2021-11-15T09:11:18.879722Z",
     "iopub.status.busy": "2021-11-15T09:11:18.879052Z",
     "iopub.status.idle": "2021-11-15T09:11:19.625971Z",
     "shell.execute_reply": "2021-11-15T09:11:19.625051Z"
    }
   },
   "outputs": [
    {
     "data": {
      "image/png": "[encoded data removed]",
      "text/plain": [
       "<Figure size 432x288 with 1 Axes>"
      ]
     },
     "metadata": {
      "needs_background": "light"
     },
     "output_type": "display_data"
    }
   ],
   "source": [
    "from smpl import plot\n",
    "plot.data(data['x'],data['y'])\n",
    "plot.data(data['x'],data['z'])"
   ]
  },
  {
   "cell_type": "code",
   "execution_count": null,
   "metadata": {},
   "outputs": [],
   "source": []
  }
 ],
 "metadata": {
  "kernelspec": {
   "display_name": "Python 3",
   "language": "python",
   "name": "python3"
  },
  "language_info": {
   "codemirror_mode": {
    "name": "ipython",
    "version": 3
   },
   "file_extension": ".py",
   "mimetype": "text/x-python",
   "name": "python",
   "nbconvert_exporter": "python",
   "pygments_lexer": "ipython3",
   "version": "3.7.12"
  }
 },
 "nbformat": 4,
 "nbformat_minor": 4
}
