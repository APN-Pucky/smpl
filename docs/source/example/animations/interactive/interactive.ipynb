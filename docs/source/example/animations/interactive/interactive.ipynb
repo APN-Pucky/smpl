{
 "cells": [
  {
   "cell_type": "markdown",
   "id": "64bb30da",
   "metadata": {},
   "source": [
    "# Interactive"
   ]
  },
  {
   "cell_type": "code",
   "execution_count": null,
   "id": "85fc6b44",
   "metadata": {},
   "outputs": [],
   "source": [
    "import numpy as np\n",
    "import scipy\n",
    "from ipywidgets import widgets\n",
    "from smpl_animation import animation\n",
    "\n",
    "from smpl import plot"
   ]
  },
  {
   "cell_type": "code",
   "execution_count": null,
   "id": "76558a78",
   "metadata": {},
   "outputs": [],
   "source": [
    "def fta(a, u=4.0):\n",
    "    plot.function(lambda x: u * x + a, xmin=-5, xmax=5, init=True, tight=False)\n",
    "\n",
    "\n",
    "print(\"Double click play for speedup.\")\n",
    "animation.interactive(\n",
    "    fta,\n",
    "    widgets.Play(\n",
    "        value=0,\n",
    "        min=0,\n",
    "        max=100,\n",
    "        step=1,\n",
    "        interval=500,\n",
    "        description=\"Press play\",\n",
    "        disabled=False,\n",
    "    ),\n",
    "    widgets.FloatSlider(value=1, min=0, max=1, step=0.1, description=\"u\"),\n",
    "    prerender=True,\n",
    ")"
   ]
  },
  {
   "cell_type": "code",
   "execution_count": null,
   "id": "fdfa2b69",
   "metadata": {},
   "outputs": [],
   "source": [
    "def fta(n=1.0, u=4.0):\n",
    "    plot.function(\n",
    "        lambda x: np.exp(n * np.log(x) - x) / u,\n",
    "        xmin=0.1,\n",
    "        xmax=100,\n",
    "        tight=False,\n",
    "        init=False,\n",
    "    )\n",
    "\n",
    "\n",
    "animation.interactive(\n",
    "    fta,\n",
    "    widgets.IntSlider(value=1, min=1, max=10, description=\"n\"),\n",
    "    widgets.IntSlider(value=1, min=1, max=10, description=\"u\"),\n",
    "    prerender=True,\n",
    ")"
   ]
  },
  {
   "cell_type": "code",
   "execution_count": null,
   "id": "7669ce4c",
   "metadata": {},
   "outputs": [],
   "source": [
    "def fta(u=4.0):\n",
    "    animation.clear()\n",
    "    for a in np.linspace(0, 10, 100):\n",
    "        plot.function(lambda x: u * x + a, xmin=-5, xmax=5, init=True, tight=False)\n",
    "        animation.frame()\n",
    "\n",
    "    ani = animation.animate(interval=10, blit=True)\n",
    "    display(ani.widget_gif())\n",
    "\n",
    "\n",
    "animation.interactive(\n",
    "    fta,\n",
    "    widgets.FloatSlider(value=1, min=0, max=1, step=0.1, description=\"u\"),\n",
    "    prerender=True,\n",
    "    auto_png=False,\n",
    ")"
   ]
  },
  {
   "cell_type": "code",
   "execution_count": null,
   "id": "59c122db",
   "metadata": {},
   "outputs": [],
   "source": [
    "# %matplotlib notebook\n",
    "# plt.ioff()\n",
    "# import ipywidgets\n",
    "def fta(n=1.0):\n",
    "    plot.function(\n",
    "        lambda x: np.exp(n * np.log(x) - x), xmin=0.1, xmax=100, tight=False, init=False\n",
    "    )\n",
    "    plot.function(\n",
    "        lambda x: np.exp(n * np.log(n) - n - (x - n) ** 2 / 2 / n),\n",
    "        xmin=0.1,\n",
    "        xmax=100,\n",
    "        tight=False,\n",
    "        init=False,\n",
    "    )\n",
    "    fac = np.math.factorial(n)\n",
    "    sti = np.sqrt(2 * np.pi * n) * n**n * np.exp(-n)\n",
    "    # print(\"FAKULTÄT(\"+str(n)+\") = \" + str(fac))\n",
    "    # print(\"STIRLING(\"+str(n)+\") = \" +  str(sti))\n",
    "    # print(\"REL-DIFF(\" + str(n)+\") = \"+ str((sti-fac)/fac*100) + \"%\")\n",
    "\n",
    "\n",
    "animation.interactive(\n",
    "    fta, widgets.IntSlider(min=1, max=130, step=1, value=1, description=\"n\")\n",
    ")"
   ]
  },
  {
   "cell_type": "code",
   "execution_count": null,
   "id": "f10bbf12",
   "metadata": {},
   "outputs": [],
   "source": [
    "# Approximate factorial by gamma\n",
    "def fac(n):\n",
    "    return scipy.special.gamma(n + 1)\n",
    "\n",
    "\n",
    "plot.function(\n",
    "    lambda n: (fac(n) - np.sqrt(2 * np.pi * n) * n**n * np.exp(-n)) / fac(n) * 100,\n",
    "    xmin=1,\n",
    "    xmax=140,\n",
    "    xlabel=\"N\",\n",
    "    ylabel=\"Rel. diff. between factorial und stirling [%]\",\n",
    "    label=\"\",\n",
    "    logy=True,\n",
    "    tight=False,\n",
    "    init=True,\n",
    ")"
   ]
  },
  {
   "cell_type": "code",
   "execution_count": null,
   "id": "db9d23ad",
   "metadata": {},
   "outputs": [],
   "source": []
  }
 ],
 "metadata": {
  "kernelspec": {
   "display_name": "Python 3 (ipykernel)",
   "language": "python",
   "name": "python3"
  },
  "language_info": {
   "codemirror_mode": {
    "name": "ipython",
    "version": 3
   },
   "file_extension": ".py",
   "mimetype": "text/x-python",
   "name": "python",
   "nbconvert_exporter": "python",
   "pygments_lexer": "ipython3",
   "version": "3.9.15"
  }
 },
 "nbformat": 4,
 "nbformat_minor": 5
}
